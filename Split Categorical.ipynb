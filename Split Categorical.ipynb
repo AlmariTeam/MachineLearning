{
 "cells": [
  {
   "cell_type": "markdown",
   "metadata": {},
   "source": [
    "# Split Dataset to Categorical Type"
   ]
  },
  {
   "cell_type": "code",
   "execution_count": null,
   "metadata": {},
   "outputs": [],
   "source": [
    "import os\n",
    "import ntpath"
   ]
  },
  {
   "cell_type": "code",
   "execution_count": null,
   "metadata": {},
   "outputs": [],
   "source": [
    "root_path = './'"
   ]
  },
  {
   "cell_type": "code",
   "execution_count": null,
   "metadata": {},
   "outputs": [],
   "source": [
    "category_list = []\n",
    "image_path_list = []\n",
    "data_type_list = []\n",
    "# category names\n",
    "with open('list_category_cloth.txt', 'r') as f:\n",
    "    for i, line in enumerate(f.readlines()):\n",
    "        if i > 1:\n",
    "            category_list.append(line.split(' ')[0])\n",
    "            # print(line.split(' ')[0])\n",
    "\n",
    "# category map\n",
    "with open('list_category_img.txt', 'r') as f:\n",
    "    for i, line in enumerate(f.readlines()):\n",
    "        if i > 1:\n",
    "            image_path_list.append([word.strip() for word in line.split(' ') if len(word) > 0])\n",
    "            # print([word.strip() for word in line.split(' ') if len(word) > 0])\n",
    "\n",
    "\n",
    "# train, valid, test\n",
    "with open('list_eval_partition.txt', 'r') as f:\n",
    "    for i, line in enumerate(f.readlines()):\n",
    "        if i > 1:\n",
    "            data_type_list.append([word.strip() for word in line.split(' ') if len(word) > 0])"
   ]
  },
  {
   "cell_type": "code",
   "execution_count": null,
   "metadata": {},
   "outputs": [],
   "source": [
    "data_df = pd.DataFrame(image_path_list, columns=['image_path', 'category_number'])\n",
    "data_df['category_number'] = data_df['category_number'].astype(int)\n",
    "data_df = data_df.merge(pd.DataFrame(data_type_list, columns=['image_path', 'dataset_type']), on='image_path')\n",
    "data_df['category'] = data_df['category_number'].apply(lambda x: category_list[int(x) - 1])\n",
    "data_df = data_df.drop('category_number', axis=1)\n",
    "data_df.head()"
   ]
  },
  {
   "cell_type": "code",
   "execution_count": null,
   "metadata": {},
   "outputs": [],
   "source": [
    "data_df[['image_path','dataset_type']].groupby('dataset_type').count()"
   ]
  },
  {
   "cell_type": "code",
   "execution_count": null,
   "metadata": {},
   "outputs": [],
   "source": [
    "len(data_df.category.unique())"
   ]
  },
  {
   "cell_type": "code",
   "execution_count": null,
   "metadata": {},
   "outputs": [],
   "source": [
    "data_df[['image_path','category']].groupby('category').count()"
   ]
  },
  {
   "cell_type": "code",
   "execution_count": null,
   "metadata": {},
   "outputs": [],
   "source": [
    "import os\n",
    "print(os.getcwd())\n",
    "os.chdir(r\"c:\\Users\\Frantf\\Desktop\\File Kuliah\\Bangkit 2022\\Capstone\\Dataset\\Untuk Bangkit\\Test 2\")\n",
    "print(os.getcwd())\n",
    "\n",
    "home_dir = r\"c:\\Users\\Frantf\\Desktop\\File Kuliah\\Bangkit 2022\\Capstone\\Dataset\\Untuk Bangkit\\Test 2\"\n",
    "i = 1\n",
    "\n",
    "for index, row in data_df.iterrows():\n",
    "    \n",
    "    # print(row['image_path'], row['dataset_type'], row['category'])\n",
    "    path = os.path.join(home_dir, row['category'])\n",
    "    if not os.path.exists(path):\n",
    "        os.mkdir(path)\n",
    "    \n",
    "    basename = ntpath.basename(row['image_path'])\n",
    "    \n",
    "    new_name = os.path.join(home_dir, row['category'], basename)\n",
    "    \n",
    "    if not os.path.exists(row['image_path']):\n",
    "        continue\n",
    "    if not os.path.exists(new_name):\n",
    "        os.rename(row['image_path'], new_name)\n",
    "    else: \n",
    "        os.rename(row['image_path'], os.path.join(home_dir, row['category'], str(i) + basename))\n",
    "        i += 1\n",
    "        \n",
    "    "
   ]
  }
 ],
 "metadata": {
  "interpreter": {
   "hash": "97d58b76e50de81912900e6e934ce9998d6d502e48292f7ef079e4e13adeaf7a"
  },
  "kernelspec": {
   "display_name": "Python 3.8.0 ('tfpython3.8')",
   "language": "python",
   "name": "python3"
  },
  "language_info": {
   "name": "python",
   "version": "3.8.0"
  },
  "orig_nbformat": 4
 },
 "nbformat": 4,
 "nbformat_minor": 2
}
