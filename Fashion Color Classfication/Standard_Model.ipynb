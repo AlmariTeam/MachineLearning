{
 "cells": [
  {
   "cell_type": "markdown",
   "metadata": {},
   "source": [
    "# Import"
   ]
  },
  {
   "cell_type": "code",
   "execution_count": 1,
   "metadata": {},
   "outputs": [],
   "source": [
    "import os\n",
    "import matplotlib.pyplot as plt\n",
    "import matplotlib.image as img\n",
    "import tensorflow.keras as keras\n",
    "import numpy as np\n",
    "import tensorflow as tf"
   ]
  },
  {
   "cell_type": "markdown",
   "metadata": {},
   "source": [
    "# Check Folder"
   ]
  },
  {
   "cell_type": "code",
   "execution_count": 2,
   "metadata": {},
   "outputs": [
    {
     "data": {
      "text/plain": [
       "['black',\n",
       " 'blue',\n",
       " 'brown',\n",
       " 'green',\n",
       " 'grey',\n",
       " 'orange',\n",
       " 'red',\n",
       " 'violet',\n",
       " 'white',\n",
       " 'yellow']"
      ]
     },
     "execution_count": 2,
     "metadata": {},
     "output_type": "execute_result"
    }
   ],
   "source": [
    "fashion_dataset_path=\"Dataset_Split/train\"\n",
    "os.listdir(fashion_dataset_path)"
   ]
  },
  {
   "cell_type": "markdown",
   "metadata": {},
   "source": [
    "# Build Model"
   ]
  },
  {
   "cell_type": "code",
   "execution_count": 3,
   "metadata": {},
   "outputs": [
    {
     "name": "stdout",
     "output_type": "stream",
     "text": [
      "Model: \"sequential\"\n",
      "_________________________________________________________________\n",
      " Layer (type)                Output Shape              Param #   \n",
      "=================================================================\n",
      " conv2d (Conv2D)             (None, 148, 148, 16)      448       \n",
      "                                                                 \n",
      " conv2d_1 (Conv2D)           (None, 146, 146, 16)      2320      \n",
      "                                                                 \n",
      " max_pooling2d (MaxPooling2D  (None, 73, 73, 16)       0         \n",
      " )                                                               \n",
      "                                                                 \n",
      " flatten (Flatten)           (None, 85264)             0         \n",
      "                                                                 \n",
      " dense (Dense)               (None, 32)                2728480   \n",
      "                                                                 \n",
      " dense_1 (Dense)             (None, 64)                2112      \n",
      "                                                                 \n",
      " dense_2 (Dense)             (None, 64)                4160      \n",
      "                                                                 \n",
      " dense_3 (Dense)             (None, 128)               8320      \n",
      "                                                                 \n",
      " dense_4 (Dense)             (None, 128)               16512     \n",
      "                                                                 \n",
      " dense_5 (Dense)             (None, 128)               16512     \n",
      "                                                                 \n",
      " dense_6 (Dense)             (None, 128)               16512     \n",
      "                                                                 \n",
      " dense_7 (Dense)             (None, 64)                8256      \n",
      "                                                                 \n",
      " dense_8 (Dense)             (None, 32)                2080      \n",
      "                                                                 \n",
      " dense_9 (Dense)             (None, 10)                330       \n",
      "                                                                 \n",
      "=================================================================\n",
      "Total params: 2,806,042\n",
      "Trainable params: 2,806,042\n",
      "Non-trainable params: 0\n",
      "_________________________________________________________________\n"
     ]
    }
   ],
   "source": [
    "#medium-medium model\n",
    "import tensorflow as tf\n",
    "\n",
    "model = tf.keras.models.Sequential([\n",
    "    # Note the input shape is the desired size of the image 150,150 with 3 bytes color\n",
    "    # This is the first convolution\n",
    "    tf.keras.layers.Conv2D(16, (3,3), activation='relu', input_shape=(150,150, 3)),\n",
    "    tf.keras.layers.Conv2D(16, (3,3), activation='relu'),\n",
    "    tf.keras.layers.MaxPooling2D(2, 2),\n",
    "        \n",
    "    tf.keras.layers.Flatten(),\n",
    "    tf.keras.layers.Dense(32, activation='relu'),\n",
    "    tf.keras.layers.Dense(64, activation='relu'),\n",
    "    \n",
    "    tf.keras.layers.Dense(64, activation='relu'),\n",
    "\n",
    "    tf.keras.layers.Dense(128, activation='relu'),\n",
    "    \n",
    "    tf.keras.layers.Dense(128, activation='relu'),\n",
    "\n",
    "    tf.keras.layers.Dense(128, activation='relu'),\n",
    "    \n",
    "    tf.keras.layers.Dense(128, activation='relu'),\n",
    "    \n",
    "    tf.keras.layers.Dense(64, activation='relu'),\n",
    "    \n",
    "    tf.keras.layers.Dense(32, activation='relu'),\n",
    "\n",
    "    tf.keras.layers.Dense(10, activation='softmax')\n",
    "])\n",
    "\n",
    "# Print the model summary\n",
    "model.summary()"
   ]
  },
  {
   "cell_type": "code",
   "execution_count": 4,
   "metadata": {},
   "outputs": [],
   "source": [
    "from tensorflow.keras.optimizers import Adam\n",
    "# Set the training parameters\n",
    "model.compile(loss = 'categorical_crossentropy', optimizer=Adam(learning_rate=0.001), metrics=['accuracy'])"
   ]
  },
  {
   "cell_type": "code",
   "execution_count": 5,
   "metadata": {},
   "outputs": [
    {
     "name": "stdout",
     "output_type": "stream",
     "text": [
      "Found 530 images belonging to 10 classes.\n",
      "Found 64 images belonging to 10 classes.\n"
     ]
    }
   ],
   "source": [
    "from keras_preprocessing.image import ImageDataGenerator\n",
    "\n",
    "TRAINING_DIR = \"Dataset_Split/train\"\n",
    "training_datagen = ImageDataGenerator(\n",
    "      rescale = 1./255,\n",
    "      fill_mode='nearest')\n",
    "\n",
    "VALIDATION_DIR = \"Dataset_Split/val\"\n",
    "validation_datagen = ImageDataGenerator(rescale = 1./255)\n",
    "\n",
    "train_generator = training_datagen.flow_from_directory(\n",
    "\tTRAINING_DIR,\n",
    "\ttarget_size=(150,150),\n",
    "\tclass_mode='categorical',\n",
    "  batch_size=15\n",
    ")\n",
    "\n",
    "validation_generator = validation_datagen.flow_from_directory(\n",
    "\tVALIDATION_DIR,\n",
    "\ttarget_size=(150,150),\n",
    "\tclass_mode='categorical',\n",
    "  batch_size=15\n",
    ")"
   ]
  },
  {
   "cell_type": "code",
   "execution_count": 41,
   "metadata": {},
   "outputs": [
    {
     "name": "stdout",
     "output_type": "stream",
     "text": [
      "Epoch 1/30\n",
      "36/36 [==============================] - 5s 110ms/step - loss: 1.9389 - accuracy: 0.3296 - val_loss: 1.6268 - val_accuracy: 0.4062\n",
      "Epoch 2/30\n",
      "36/36 [==============================] - 3s 90ms/step - loss: 1.3618 - accuracy: 0.5122 - val_loss: 1.0422 - val_accuracy: 0.6719\n",
      "Epoch 3/30\n",
      "36/36 [==============================] - 3s 92ms/step - loss: 1.0726 - accuracy: 0.6234 - val_loss: 0.8709 - val_accuracy: 0.6719\n",
      "Epoch 4/30\n",
      "36/36 [==============================] - 3s 91ms/step - loss: 0.8368 - accuracy: 0.6836 - val_loss: 0.9455 - val_accuracy: 0.6719\n",
      "Epoch 5/30\n",
      "36/36 [==============================] - 3s 93ms/step - loss: 0.7828 - accuracy: 0.7232 - val_loss: 1.1908 - val_accuracy: 0.6406\n",
      "Epoch 6/30\n",
      "36/36 [==============================] - 3s 90ms/step - loss: 0.7204 - accuracy: 0.7476 - val_loss: 0.7768 - val_accuracy: 0.7344\n",
      "Epoch 7/30\n",
      "36/36 [==============================] - 3s 88ms/step - loss: 0.6598 - accuracy: 0.7514 - val_loss: 1.1466 - val_accuracy: 0.7656\n",
      "Epoch 8/30\n",
      "36/36 [==============================] - 3s 91ms/step - loss: 0.4424 - accuracy: 0.8211 - val_loss: 0.7225 - val_accuracy: 0.7812\n",
      "Epoch 9/30\n",
      "36/36 [==============================] - 3s 90ms/step - loss: 0.3024 - accuracy: 0.8832 - val_loss: 1.2257 - val_accuracy: 0.7344\n",
      "Epoch 10/30\n",
      "36/36 [==============================] - 3s 91ms/step - loss: 0.4210 - accuracy: 0.8475 - val_loss: 0.7714 - val_accuracy: 0.7344\n",
      "Epoch 11/30\n",
      "36/36 [==============================] - 3s 90ms/step - loss: 0.2536 - accuracy: 0.8964 - val_loss: 0.8581 - val_accuracy: 0.8125\n",
      "Epoch 12/30\n",
      "36/36 [==============================] - 3s 90ms/step - loss: 0.2936 - accuracy: 0.8851 - val_loss: 0.7547 - val_accuracy: 0.7969\n",
      "Epoch 13/30\n",
      "36/36 [==============================] - 3s 90ms/step - loss: 0.3683 - accuracy: 0.8682 - val_loss: 1.2719 - val_accuracy: 0.6875\n",
      "Epoch 14/30\n",
      "36/36 [==============================] - 3s 89ms/step - loss: 0.3011 - accuracy: 0.8851 - val_loss: 0.9052 - val_accuracy: 0.7969\n",
      "Epoch 15/30\n",
      "36/36 [==============================] - 3s 90ms/step - loss: 0.2301 - accuracy: 0.9134 - val_loss: 0.8451 - val_accuracy: 0.7500\n",
      "Epoch 16/30\n",
      "36/36 [==============================] - 3s 91ms/step - loss: 0.1784 - accuracy: 0.9435 - val_loss: 1.0058 - val_accuracy: 0.7969\n",
      "Epoch 17/30\n",
      "36/36 [==============================] - 3s 91ms/step - loss: 0.1253 - accuracy: 0.9642 - val_loss: 0.7340 - val_accuracy: 0.8281\n",
      "Epoch 18/30\n",
      "36/36 [==============================] - 3s 89ms/step - loss: 0.0936 - accuracy: 0.9718 - val_loss: 1.2324 - val_accuracy: 0.8125\n",
      "Epoch 19/30\n",
      "36/36 [==============================] - 3s 90ms/step - loss: 0.0407 - accuracy: 0.9868 - val_loss: 1.3297 - val_accuracy: 0.7656\n",
      "Epoch 20/30\n",
      "36/36 [==============================] - 3s 91ms/step - loss: 0.0101 - accuracy: 0.9962 - val_loss: 1.3314 - val_accuracy: 0.7812\n",
      "Epoch 21/30\n",
      "36/36 [==============================] - 3s 89ms/step - loss: 0.0037 - accuracy: 1.0000 - val_loss: 1.3850 - val_accuracy: 0.7812\n",
      "Epoch 22/30\n",
      "36/36 [==============================] - 3s 91ms/step - loss: 0.0841 - accuracy: 0.9699 - val_loss: 1.7660 - val_accuracy: 0.7500\n",
      "Epoch 23/30\n",
      "36/36 [==============================] - 3s 89ms/step - loss: 0.2195 - accuracy: 0.9416 - val_loss: 1.4645 - val_accuracy: 0.7812\n",
      "Epoch 24/30\n",
      "36/36 [==============================] - 3s 93ms/step - loss: 0.1646 - accuracy: 0.9548 - val_loss: 0.8249 - val_accuracy: 0.8125\n",
      "Epoch 25/30\n",
      "36/36 [==============================] - 3s 90ms/step - loss: 0.0469 - accuracy: 0.9906 - val_loss: 1.1649 - val_accuracy: 0.8125\n",
      "Epoch 26/30\n",
      "36/36 [==============================] - 3s 90ms/step - loss: 0.0186 - accuracy: 0.9944 - val_loss: 1.3771 - val_accuracy: 0.7969\n",
      "Epoch 27/30\n",
      "36/36 [==============================] - 3s 90ms/step - loss: 0.0230 - accuracy: 0.9944 - val_loss: 1.1693 - val_accuracy: 0.7969\n",
      "Epoch 28/30\n",
      "36/36 [==============================] - 3s 90ms/step - loss: 0.0023 - accuracy: 1.0000 - val_loss: 1.2474 - val_accuracy: 0.8125\n",
      "Epoch 29/30\n",
      "36/36 [==============================] - 3s 92ms/step - loss: 7.6952e-04 - accuracy: 1.0000 - val_loss: 1.2726 - val_accuracy: 0.8281\n",
      "Epoch 30/30\n",
      "36/36 [==============================] - 3s 91ms/step - loss: 4.7564e-04 - accuracy: 1.0000 - val_loss: 1.3093 - val_accuracy: 0.8281\n"
     ]
    }
   ],
   "source": [
    "# Train the model\n",
    "history = model.fit(train_generator, epochs=30, validation_data = validation_generator)"
   ]
  },
  {
   "cell_type": "markdown",
   "metadata": {},
   "source": [
    "# Evaluate"
   ]
  },
  {
   "cell_type": "code",
   "execution_count": 42,
   "metadata": {},
   "outputs": [
    {
     "data": {
      "image/png": "[encoded data removed]",
      "text/plain": [
       "<Figure size 432x288 with 1 Axes>"
      ]
     },
     "metadata": {
      "needs_background": "light"
     },
     "output_type": "display_data"
    },
    {
     "data": {
      "text/plain": [
       "<Figure size 432x288 with 0 Axes>"
      ]
     },
     "metadata": {},
     "output_type": "display_data"
    },
    {
     "data": {
      "image/png": "[encoded data removed]",
      "text/plain": [
       "<Figure size 432x288 with 1 Axes>"
      ]
     },
     "metadata": {
      "needs_background": "light"
     },
     "output_type": "display_data"
    }
   ],
   "source": [
    "def plot_history(history):\n",
    "    '''Plot loss and accuracy as a function of the epoch,\n",
    "    for the training and validation datasets.\n",
    "    '''\n",
    "    acc = history.history['accuracy']\n",
    "    val_acc = history.history['val_accuracy']\n",
    "    loss = history.history['loss']\n",
    "    val_loss = history.history['val_loss']\n",
    "\n",
    "    # Get number of epochs\n",
    "    epochs = range(len(acc))\n",
    "\n",
    "    # Plot training and validation accuracy per epoch\n",
    "    \n",
    "    plt.plot(epochs, acc, 'r', label='Training accuracy')\n",
    "    plt.plot(epochs, val_acc, 'b', label='Validation accuracy')\n",
    "    plt.title('Training and validation accuracy')\n",
    "    plt.legend(loc=0)\n",
    "    plt.figure()\n",
    "    \n",
    "    # plt.plot(epochs, acc)\n",
    "    # plt.plot(epochs, val_acc)\n",
    "    # plt.title('Training and validation accuracy')\n",
    "    # plt.ylim(yrange)\n",
    "    \n",
    "    # Plot training and validation loss per epoch\n",
    "    plt.figure()\n",
    "\n",
    "    plt.plot(epochs, loss, label='loss')\n",
    "    plt.plot(epochs, val_loss, label='validation loss')\n",
    "    plt.title('Training and validation loss')\n",
    "    plt.legend(loc=0)\n",
    "    \n",
    "    plt.show()\n",
    "    \n",
    "plot_history(history)"
   ]
  },
  {
   "cell_type": "markdown",
   "metadata": {},
   "source": [
    "# Evaluate on new images"
   ]
  },
  {
   "cell_type": "code",
   "execution_count": 43,
   "metadata": {},
   "outputs": [
    {
     "name": "stdout",
     "output_type": "stream",
     "text": [
      "{'black': 0, 'blue': 1, 'brown': 2, 'green': 3, 'grey': 4, 'orange': 5, 'red': 6, 'violet': 7, 'white': 8, 'yellow': 9}\n"
     ]
    }
   ],
   "source": [
    "label_map = (train_generator.class_indices)\n",
    "print(label_map)"
   ]
  },
  {
   "cell_type": "code",
   "execution_count": 46,
   "metadata": {},
   "outputs": [],
   "source": [
    "from tensorflow.keras.preprocessing.image import ImageDataGenerator\n",
    "test_dir=VALIDATION_DIR\n",
    "test_datagen = ImageDataGenerator()\n",
    "\n",
    "# test_generator = test_datagen.flow_from_directory(test_dir, target_size=(224, 224), batch_size=3, class_mode='categorical')\n",
    "# # X_test, y_test = next(test_generator)\n",
    "\n",
    "# Testresults = full_model.evaluate(test_generator)\n",
    "# print(\"test loss, test acc:\", Testresults)"
   ]
  },
  {
   "cell_type": "code",
   "execution_count": 47,
   "metadata": {},
   "outputs": [
    {
     "name": "stdout",
     "output_type": "stream",
     "text": [
      "Found 64 images belonging to 10 classes.\n",
      "\n",
      "Predicted: Indigo\n",
      "True: Indigo\n",
      "\n",
      "Predicted: Green\n",
      "True: Green\n",
      "\n",
      "Predicted: Blue\n",
      "True: Blue\n",
      "\n",
      "Predicted: Blue\n",
      "True: Blue\n",
      "\n"
     ]
    }
   ],
   "source": [
    "test_generator = test_datagen.flow_from_directory(test_dir, target_size=(150,150), class_mode='categorical')\n",
    "X_test, y_test = next(test_generator)\n",
    "X_test=X_test/255\n",
    "preds = model.predict(X_test)\n",
    "pred_labels = np.argmax(preds, axis=1)\n",
    "true_labels = np.argmax(y_test, axis=1)\n",
    "print('')\n",
    "\n",
    "names = [\"Blue\",\"Green\",\"Indigo\",\"Orange\",\"Red\",\"Voilet\",\"Yellow\"]\n",
    "\n",
    "for i in range(0,4):\n",
    "    class_labels2=[names[i] for i,prob in enumerate(y_test[i]) if prob > 0.0]\n",
    "    print(\"Predicted:\",names[np.argmax(preds[i])])\n",
    "    ans = max(list(zip(preds[i],names)))\n",
    "    # print(\"Given input file is of {} color with prediction percentage {:2f}%\".format(ans[1],ans[0]*100))\n",
    "    print(\"True:\",names[np.argmax(y_test[i])])\n",
    "    print('')\n",
    "\n"
   ]
  },
  {
   "cell_type": "markdown",
   "metadata": {},
   "source": [
    "# Save Model"
   ]
  },
  {
   "cell_type": "code",
   "execution_count": 48,
   "metadata": {},
   "outputs": [],
   "source": [
    "# Save the entire model as my_model in .h5 format\n",
    "# !mkdir saved_model\n",
    "model.save('my_model.h5')"
   ]
  },
  {
   "cell_type": "code",
   "execution_count": 12,
   "metadata": {},
   "outputs": [
    {
     "name": "stdout",
     "output_type": "stream",
     "text": [
      "INFO:tensorflow:Assets written to: my_model\\assets\n"
     ]
    }
   ],
   "source": [
    "# Save the entire model as my_model \n",
    "# !mkdir saved_model\n",
    "model.save('my_model')"
   ]
  },
  {
   "cell_type": "markdown",
   "metadata": {},
   "source": [
    "# Load Model"
   ]
  },
  {
   "cell_type": "code",
   "execution_count": 6,
   "metadata": {},
   "outputs": [
    {
     "name": "stdout",
     "output_type": "stream",
     "text": [
      "Model: \"sequential_2\"\n",
      "_________________________________________________________________\n",
      " Layer (type)                Output Shape              Param #   \n",
      "=================================================================\n",
      " conv2d_4 (Conv2D)           (None, 148, 148, 16)      448       \n",
      "                                                                 \n",
      " conv2d_5 (Conv2D)           (None, 146, 146, 16)      2320      \n",
      "                                                                 \n",
      " max_pooling2d_2 (MaxPooling  (None, 73, 73, 16)       0         \n",
      " 2D)                                                             \n",
      "                                                                 \n",
      " flatten_2 (Flatten)         (None, 85264)             0         \n",
      "                                                                 \n",
      " dense_18 (Dense)            (None, 32)                2728480   \n",
      "                                                                 \n",
      " dense_19 (Dense)            (None, 64)                2112      \n",
      "                                                                 \n",
      " dense_20 (Dense)            (None, 64)                4160      \n",
      "                                                                 \n",
      " dense_21 (Dense)            (None, 128)               8320      \n",
      "                                                                 \n",
      " dense_22 (Dense)            (None, 128)               16512     \n",
      "                                                                 \n",
      " dense_23 (Dense)            (None, 128)               16512     \n",
      "                                                                 \n",
      " dense_24 (Dense)            (None, 128)               16512     \n",
      "                                                                 \n",
      " dense_25 (Dense)            (None, 64)                8256      \n",
      "                                                                 \n",
      " dense_26 (Dense)            (None, 32)                2080      \n",
      "                                                                 \n",
      " dense_27 (Dense)            (None, 10)                330       \n",
      "                                                                 \n",
      "=================================================================\n",
      "Total params: 2,806,042\n",
      "Trainable params: 2,806,042\n",
      "Non-trainable params: 0\n",
      "_________________________________________________________________\n"
     ]
    }
   ],
   "source": [
    "# Recreate the exact same model, including its weights and the optimizer\n",
    "load_model = tf.keras.models.load_model('my_model.h5')\n",
    "\n",
    "# Show the model architecture\n",
    "load_model.summary()"
   ]
  },
  {
   "cell_type": "markdown",
   "metadata": {},
   "source": [
    "# Load Model Test"
   ]
  },
  {
   "cell_type": "code",
   "execution_count": 7,
   "metadata": {},
   "outputs": [
    {
     "data": {
      "image/png": "[encoded data removed]",
      "text/plain": [
       "<Figure size 4608x864 with 1 Axes>"
      ]
     },
     "metadata": {
      "needs_background": "light"
     },
     "output_type": "display_data"
    }
   ],
   "source": [
    "# load_model_sample.py\n",
    "from keras.models import load_model\n",
    "from keras.preprocessing import image\n",
    "import matplotlib.pyplot as plt\n",
    "import numpy as np\n",
    "import os\n",
    "\n",
    "\n",
    "def load_image(img_path, show=False):\n",
    "\n",
    "    img = image.load_img(img_path, target_size=(150,150))\n",
    "    img_tensor = image.img_to_array(img)                    # (height, width, channels)\n",
    "    img_tensor = np.expand_dims(img_tensor, axis=0)         # (1, height, width, channels), add a dimension because the model expects this shape: (batch_size, height, width, channels)\n",
    "    img_tensor /= 255.                                      # imshow expects values in the range [0, 1]\n",
    "\n",
    "    if show:\n",
    "        plt.imshow(img_tensor[0])                           \n",
    "        plt.axis('off')\n",
    "        plt.show()\n",
    "\n",
    "    return img_tensor\n",
    "\n",
    "\n",
    "if __name__ == \"__main__\":\n",
    "\n",
    "    # load model\n",
    "    model = load_model(\"my_model.h5\")\n",
    "\n",
    "    # image path\n",
    "    img_path = 'Dataset_Split/val/yellow/26413img_00000012.jpg'\n",
    "\n",
    "    # load a single image\n",
    "    new_image = load_image(img_path)\n",
    "\n",
    "    # check prediction\n",
    "    pred = model.predict_step(new_image)\n",
    "    \n",
    "    # print(pred[0])\n",
    "    \n",
    "    names = ['black', 'blue', 'brown', 'green', 'grey', 'orange', 'red', 'violet', 'white', 'yellow']\n",
    "    values = np.array(pred[0])\n",
    "\n",
    "    plt.figure(figsize=(64, 12))\n",
    "\n",
    "    plt.subplot(131)\n",
    "    plt.bar(names, values)\n",
    "    # plt.suptitle('Categorical Plotting')\n",
    "    plt.show()\n",
    " \n"
   ]
  },
  {
   "cell_type": "code",
   "execution_count": 8,
   "metadata": {},
   "outputs": [
    {
     "name": "stdout",
     "output_type": "stream",
     "text": [
      "Found 594 images belonging to 10 classes.\n",
      "\n",
      "Predicted: orange\n",
      "True: orange\n",
      "\n",
      "Predicted: black\n",
      "True: black\n",
      "\n",
      "Predicted: red\n",
      "True: red\n",
      "\n",
      "Predicted: red\n",
      "True: red\n",
      "\n",
      "Predicted: red\n",
      "True: red\n",
      "\n",
      "Predicted: brown\n",
      "True: brown\n",
      "\n",
      "Predicted: red\n",
      "True: red\n",
      "\n",
      "Predicted: black\n",
      "True: black\n",
      "\n"
     ]
    }
   ],
   "source": [
    "# TRAINING_DIR = \"Dataset_Split/train\"\n",
    "# VALIDATION_DIR\n",
    "GABUNG_DIR = \"Dataset\"\n",
    "test_dir=GABUNG_DIR\n",
    "test_datagen = ImageDataGenerator()\n",
    "\n",
    "test_generator = test_datagen.flow_from_directory(test_dir, target_size=(150,150),batch_size=595, class_mode='categorical')\n",
    "X_test, y_test = next(test_generator)\n",
    "X_test=X_test/255\n",
    "preds = model.predict(X_test)\n",
    "pred_labels = np.argmax(preds, axis=1)\n",
    "true_labels = np.argmax(y_test, axis=1)\n",
    "print('')\n",
    "\n",
    "names = ['black', 'blue', 'brown', 'green', 'grey', 'orange', 'red', 'violet', 'white', 'yellow']\n",
    "\n",
    "for i in range(0,8):\n",
    "    class_labels2=[names[i] for i,prob in enumerate(y_test[i]) if prob > 0.0]\n",
    "    print(\"Predicted:\",names[np.argmax(preds[i])])\n",
    "    print(\"True:\",names[np.argmax(y_test[i])])\n",
    "    print('')\n",
    "\n"
   ]
  },
  {
   "cell_type": "code",
   "execution_count": 68,
   "metadata": {},
   "outputs": [],
   "source": [
    "predicted_categories = tf.argmax(preds, axis=1)"
   ]
  },
  {
   "cell_type": "code",
   "execution_count": 69,
   "metadata": {},
   "outputs": [
    {
     "name": "stdout",
     "output_type": "stream",
     "text": [
      "tf.Tensor(\n",
      "[0 7 2 0 1 0 0 8 6 2 6 8 4 1 0 0 2 2 1 9 4 5 0 7 2 4 0 0 0 0 8 0 4 2 6 2 2\n",
      " 1 0 4 4 6 9 9 3 6 1 8 6 2 2 4 6 5 1 6 8 0 5 9 5 2 9 6 6 6 6 1 6 2 6 9 2 6\n",
      " 6 6 4 7 2 2 1 4 2 4 7 8 1 5 5 6 0 0 3 0 6 1 1 0 0 0 5 5 6 3 2 1 6 0 6 5 9\n",
      " 2 9 6 3 1 2 2 1 0 8 8 1 4 2 8 0 6 2 3 9 9 6 2 0 2 6 1 6 7 6 0 0 0 0 6 0 6\n",
      " 6 9 7 6 2 1 1 8 9 0 1 0 6 9 4 4 5 6 6 4 8 8 1 9 9 1 0 4 4 7 2 0 8 1 6 5 6\n",
      " 6 6 8 0 0 1 8 6 2 0 1 5 0 6 0 9 0 6 4 3 2 6 7 6 2 6 2 0 0 0 6 8 6 6 2 8 0\n",
      " 6 5 6 1 6 0 6 2 1 0 3 6 1 4 2 1 8 6 3 9 7 0 5 8 0 6 1 8 1 1 7 5 0 0 1 6 8\n",
      " 6 1 8 0 2 0 9 3 2 6 2 4 9 2 6 0 0 0 3 1 2 7 2 2 9 6 4 6 2 6 2 4 2 6 6 6 5\n",
      " 8 1 8 1 6 5 2 3 0 1 6 5 6 0 6 6 3 6 0 3 0 6 0 2 5 0 4 6 2 1 1 5 6 7 6 6 8\n",
      " 0 0 8 0 6 6 8 2 2 6 3 6 5 6 6 0 2 6 2 6 4 6 5 0 0 0 0 1 6 0 6 6 8 6 0 6 1\n",
      " 1 5 1 8 1 9 2 5 6 4 4 0 8 0 6 6 0 0 6 0 5 6 2 4 3 0 9 1 0 0 1 4 5 4 6 6 6\n",
      " 3 0 6 2 9 0 6 0 2 7 1 7 0 3 3 6 6 3 7 0 6 4 0 2 2 6 2 2 0 2 2 0 9 4 6 6 2\n",
      " 8 1 6 6 2 1 8 0 5 4 2 8 5 9 7 6 2 5 2 1 8 6 9 7 6 2 0 2 1 0 7 6 2 0 3 0 6\n",
      " 2 6 4 0 6 6 4 1 2 6 0 1 8 9 9 0 6 0 0 3 6 8 2 5 2 2 6 6 9 5 2 8 7 0 0 5 2\n",
      " 1 2 0 7 6 6 9 5 7 0 6 2 0 7 3 2 6 6 6 6 1 6 0 1 6 6 0 0 0 0 3 1 0 0 9 4 8\n",
      " 5 0 8 1 0 7 3 9 8 0 9 9 3 6 6 7 1 1 3 0 6 2 1 2 3 5 0 2 6 1 5 5 0 3 1 6 2\n",
      " 0 0 8], shape=(595,), dtype=int64)\n"
     ]
    }
   ],
   "source": [
    "print(predicted_categories)"
   ]
  },
  {
   "cell_type": "code",
   "execution_count": 70,
   "metadata": {},
   "outputs": [],
   "source": [
    "true_categories = tf.argmax(y_test, axis=1)"
   ]
  },
  {
   "cell_type": "code",
   "execution_count": 71,
   "metadata": {},
   "outputs": [
    {
     "name": "stdout",
     "output_type": "stream",
     "text": [
      "tf.Tensor(\n",
      "[0 7 2 0 1 0 0 8 6 2 6 8 4 1 0 0 2 2 1 9 4 5 0 7 2 4 0 0 0 0 8 0 3 2 6 0 2\n",
      " 1 0 4 4 6 9 9 3 6 1 8 6 2 2 4 6 5 1 6 8 0 5 9 5 2 9 6 6 6 6 1 6 2 6 9 2 6\n",
      " 6 6 4 7 2 2 1 4 2 4 7 8 1 5 5 6 0 0 3 0 6 1 1 0 0 0 5 5 6 3 2 1 6 0 6 5 9\n",
      " 2 9 6 3 1 2 2 1 0 8 8 1 4 2 8 0 6 2 3 9 9 6 2 0 2 6 1 6 7 6 0 0 0 0 6 0 6\n",
      " 6 9 7 6 2 1 1 2 9 0 1 0 6 9 4 4 5 6 6 4 8 8 1 3 9 1 0 4 4 7 2 0 8 1 6 5 6\n",
      " 6 6 8 0 0 1 8 6 2 0 1 6 0 6 0 9 0 6 4 1 2 6 7 6 2 6 2 0 0 0 6 8 6 6 2 8 0\n",
      " 6 5 6 1 6 0 6 2 1 0 3 6 1 4 2 1 8 6 3 9 7 0 5 7 0 6 1 8 1 1 7 5 0 0 1 6 8\n",
      " 6 1 8 0 2 0 9 3 2 6 2 4 9 2 6 0 0 0 3 1 2 7 2 2 9 6 4 6 2 6 2 4 2 6 6 6 5\n",
      " 8 1 8 1 6 5 2 3 0 1 6 5 6 0 6 6 3 6 0 3 0 6 2 2 5 4 4 6 2 1 1 5 6 7 6 6 8\n",
      " 0 0 8 0 6 6 8 2 2 6 3 6 5 6 6 0 2 6 2 6 4 6 5 0 0 0 0 1 6 0 6 6 8 6 0 6 1\n",
      " 1 5 1 8 1 9 2 5 6 4 4 0 8 0 6 6 0 0 6 0 5 6 2 4 3 0 9 1 0 0 1 4 5 4 6 6 6\n",
      " 3 0 6 2 9 0 6 0 2 7 1 7 0 3 3 6 6 3 7 0 6 4 0 2 2 6 2 2 0 2 2 0 9 4 6 6 2\n",
      " 8 1 6 6 2 1 8 0 5 4 2 8 5 9 7 6 2 5 2 1 8 6 9 7 6 2 0 2 1 0 7 6 2 0 3 0 6\n",
      " 2 6 4 0 6 6 4 1 2 6 0 1 7 9 9 0 6 0 0 3 6 8 2 5 2 2 6 6 9 5 2 8 7 0 0 5 2\n",
      " 1 2 0 7 5 6 9 5 7 0 6 2 0 7 3 2 6 6 6 6 1 6 0 1 6 6 0 0 0 0 3 1 0 0 9 4 8\n",
      " 5 0 8 1 0 7 3 9 8 0 9 9 3 6 6 7 1 1 3 0 6 2 1 2 3 5 0 2 6 1 5 5 0 3 1 6 2\n",
      " 0 0 8], shape=(595,), dtype=int64)\n"
     ]
    }
   ],
   "source": [
    "print(true_categories)"
   ]
  },
  {
   "cell_type": "code",
   "execution_count": 72,
   "metadata": {},
   "outputs": [
    {
     "data": {
      "text/plain": [
       "array([[114,   0,   1,   0,   1,   0,   0,   0,   0,   0],\n",
       "       [  0,  63,   0,   0,   0,   0,   0,   0,   0,   0],\n",
       "       [  1,   0,  81,   0,   0,   0,   0,   0,   0,   0],\n",
       "       [  0,   1,   0,  27,   0,   0,   0,   0,   0,   0],\n",
       "       [  0,   0,   0,   1,  33,   0,   0,   0,   0,   0],\n",
       "       [  0,   0,   0,   0,   0,  36,   1,   0,   0,   0],\n",
       "       [  0,   0,   0,   0,   0,   1, 135,   0,   0,   0],\n",
       "       [  0,   0,   0,   0,   0,   0,   0,  24,   0,   0],\n",
       "       [  0,   0,   1,   0,   0,   0,   0,   2,  38,   0],\n",
       "       [  0,   0,   0,   1,   0,   0,   0,   0,   0,  33]], dtype=int64)"
      ]
     },
     "execution_count": 72,
     "metadata": {},
     "output_type": "execute_result"
    }
   ],
   "source": [
    "from sklearn.metrics import confusion_matrix\n",
    "confusion_matrix(predicted_categories, true_categories)"
   ]
  },
  {
   "cell_type": "code",
   "execution_count": 73,
   "metadata": {},
   "outputs": [
    {
     "name": "stdout",
     "output_type": "stream",
     "text": [
      "[[114   0   1   0   1   0   0   0   0   0]\n",
      " [  0  63   0   0   0   0   0   0   0   0]\n",
      " [  1   0  81   0   0   0   0   0   0   0]\n",
      " [  0   1   0  27   0   0   0   0   0   0]\n",
      " [  0   0   0   1  33   0   0   0   0   0]\n",
      " [  0   0   0   0   0  36   1   0   0   0]\n",
      " [  0   0   0   0   0   1 135   0   0   0]\n",
      " [  0   0   0   0   0   0   0  24   0   0]\n",
      " [  0   0   1   0   0   0   0   2  38   0]\n",
      " [  0   0   0   1   0   0   0   0   0  33]]\n"
     ]
    }
   ],
   "source": [
    "cf_matrix = confusion_matrix(predicted_categories, true_categories)\n",
    "print(cf_matrix)"
   ]
  },
  {
   "cell_type": "code",
   "execution_count": 74,
   "metadata": {},
   "outputs": [
    {
     "data": {
      "image/png": "[encoded data removed]",
      "text/plain": [
       "<Figure size 1008x864 with 2 Axes>"
      ]
     },
     "metadata": {
      "needs_background": "light"
     },
     "output_type": "display_data"
    }
   ],
   "source": [
    "import seaborn as sns\n",
    "import matplotlib.pyplot as plt\n",
    "\n",
    "plt.figure(figsize=(14, 12))\n",
    "\n",
    "ax = sns.heatmap(cf_matrix, annot=True, cmap='Blues')\n",
    "\n",
    "ax.set_title('Confusion Matrix\\n\\n');\n",
    "ax.set_xlabel('\\nPredicted')\n",
    "ax.set_ylabel('Actual');\n",
    "\n",
    "## Ticket labels - List must be in alphabetical order\n",
    "ax.xaxis.set_ticklabels(['black', 'blue', 'brown', 'green', 'grey', 'orange', 'red', 'violet', 'white', 'yellow'])\n",
    "ax.yaxis.set_ticklabels(['black', 'blue', 'brown', 'green', 'grey', 'orange', 'red', 'violet', 'white', 'yellow'])\n",
    "\n",
    "## Display the visualization of the Confusion Matrix.\n",
    "plt.show()"
   ]
  },
  {
   "cell_type": "code",
   "execution_count": null,
   "metadata": {},
   "outputs": [],
   "source": []
  }
 ],
 "metadata": {
  "interpreter": {
   "hash": "97d58b76e50de81912900e6e934ce9998d6d502e48292f7ef079e4e13adeaf7a"
  },
  "kernelspec": {
   "display_name": "Python 3.8.0 ('tfpython3.8')",
   "language": "python",
   "name": "python3"
  },
  "language_info": {
   "codemirror_mode": {
    "name": "ipython",
    "version": 3
   },
   "file_extension": ".py",
   "mimetype": "text/x-python",
   "name": "python",
   "nbconvert_exporter": "python",
   "pygments_lexer": "ipython3",
   "version": "3.8.0"
  },
  "orig_nbformat": 4
 },
 "nbformat": 4,
 "nbformat_minor": 2
}
