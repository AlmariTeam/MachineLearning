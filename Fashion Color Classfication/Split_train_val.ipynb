{
 "cells": [
  {
   "cell_type": "code",
   "execution_count": 1,
   "metadata": {},
   "outputs": [],
   "source": [
    "import splitfolders"
   ]
  },
  {
   "cell_type": "code",
   "execution_count": 2,
   "metadata": {},
   "outputs": [],
   "source": [
    "input_folder = 'Dataset/'"
   ]
  },
  {
   "cell_type": "code",
   "execution_count": 3,
   "metadata": {},
   "outputs": [
    {
     "name": "stderr",
     "output_type": "stream",
     "text": [
      "Copying files: 541 files [00:03, 146.27 files/s]\n"
     ]
    }
   ],
   "source": [
    "splitfolders.ratio(input_folder, output = 'Dataset_Split',\n",
    "                   seed = 42, ratio = (0.9, 0.1),\n",
    "                   group_prefix=None)"
   ]
  }
 ],
 "metadata": {
  "interpreter": {
   "hash": "97d58b76e50de81912900e6e934ce9998d6d502e48292f7ef079e4e13adeaf7a"
  },
  "kernelspec": {
   "display_name": "Python 3.8.0 ('tfpython3.8')",
   "language": "python",
   "name": "python3"
  },
  "language_info": {
   "codemirror_mode": {
    "name": "ipython",
    "version": 3
   },
   "file_extension": ".py",
   "mimetype": "text/x-python",
   "name": "python",
   "nbconvert_exporter": "python",
   "pygments_lexer": "ipython3",
   "version": "3.8.0"
  },
  "orig_nbformat": 4
 },
 "nbformat": 4,
 "nbformat_minor": 2
}
