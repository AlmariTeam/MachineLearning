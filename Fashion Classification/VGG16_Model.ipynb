{
 "cells": [
  {
   "cell_type": "markdown",
   "metadata": {},
   "source": [
    "# Import"
   ]
  },
  {
   "cell_type": "code",
   "execution_count": 1,
   "metadata": {},
   "outputs": [
    {
     "name": "stdout",
     "output_type": "stream",
     "text": [
      "WARNING:tensorflow:From C:\\Users\\Frantf\\AppData\\Local\\Temp\\ipykernel_12680\\3444700945.py:9: The name tf.keras.backend.set_session is deprecated. Please use tf.compat.v1.keras.backend.set_session instead.\n",
      "\n"
     ]
    }
   ],
   "source": [
    "import os\n",
    "import matplotlib.pyplot as plt\n",
    "import matplotlib.image as img\n",
    "import tensorflow.keras as keras\n",
    "import numpy as np\n",
    "import tensorflow as tf\n",
    "config = tf.compat.v1.ConfigProto()\n",
    "config.gpu_options.allow_growth = True\n",
    "tf.compat.v1.keras.backend.set_session(tf.compat.v1.Session(config=config))\n"
   ]
  },
  {
   "cell_type": "markdown",
   "metadata": {},
   "source": [
    "# Check Folder"
   ]
  },
  {
   "cell_type": "code",
   "execution_count": 4,
   "metadata": {},
   "outputs": [
    {
     "data": {
      "text/plain": [
       "['Anorak',\n",
       " 'Blazer',\n",
       " 'Blouse',\n",
       " 'Bomber',\n",
       " 'Button-Down',\n",
       " 'Caftan',\n",
       " 'Capris',\n",
       " 'Cardigan',\n",
       " 'Chinos',\n",
       " 'Coat',\n",
       " 'Coverup',\n",
       " 'Culottes',\n",
       " 'Cutoffs',\n",
       " 'Dress',\n",
       " 'Flannel',\n",
       " 'Gauchos',\n",
       " 'Halter',\n",
       " 'Henley',\n",
       " 'Hoodie',\n",
       " 'Jacket',\n",
       " 'Jeans',\n",
       " 'Jeggings',\n",
       " 'Jersey',\n",
       " 'Jodhpurs',\n",
       " 'Joggers',\n",
       " 'Jumpsuit',\n",
       " 'Kaftan',\n",
       " 'Kimono',\n",
       " 'Leggings',\n",
       " 'Onesie',\n",
       " 'Parka',\n",
       " 'Peacoat',\n",
       " 'Poncho',\n",
       " 'Robe',\n",
       " 'Romper',\n",
       " 'Sarong',\n",
       " 'Shorts',\n",
       " 'Skirt',\n",
       " 'Sweater',\n",
       " 'Sweatpants',\n",
       " 'Sweatshorts',\n",
       " 'Tank',\n",
       " 'Tee',\n",
       " 'Top',\n",
       " 'Trunks',\n",
       " 'Turtleneck']"
      ]
     },
     "execution_count": 4,
     "metadata": {},
     "output_type": "execute_result"
    }
   ],
   "source": [
    "fashion_dataset_path=\"Dataset_Split/train\"\n",
    "os.listdir(fashion_dataset_path)"
   ]
  },
  {
   "cell_type": "markdown",
   "metadata": {},
   "source": [
    "# Import Pretrained Model VGG16"
   ]
  },
  {
   "cell_type": "code",
   "execution_count": 5,
   "metadata": {},
   "outputs": [
    {
     "name": "stdout",
     "output_type": "stream",
     "text": [
      "Model: \"vgg16\"\n",
      "_________________________________________________________________\n",
      " Layer (type)                Output Shape              Param #   \n",
      "=================================================================\n",
      " input_1 (InputLayer)        [(None, None, None, 3)]   0         \n",
      "                                                                 \n",
      " block1_conv1 (Conv2D)       (None, None, None, 64)    1792      \n",
      "                                                                 \n",
      " block1_conv2 (Conv2D)       (None, None, None, 64)    36928     \n",
      "                                                                 \n",
      " block1_pool (MaxPooling2D)  (None, None, None, 64)    0         \n",
      "                                                                 \n",
      " block2_conv1 (Conv2D)       (None, None, None, 128)   73856     \n",
      "                                                                 \n",
      " block2_conv2 (Conv2D)       (None, None, None, 128)   147584    \n",
      "                                                                 \n",
      " block2_pool (MaxPooling2D)  (None, None, None, 128)   0         \n",
      "                                                                 \n",
      " block3_conv1 (Conv2D)       (None, None, None, 256)   295168    \n",
      "                                                                 \n",
      " block3_conv2 (Conv2D)       (None, None, None, 256)   590080    \n",
      "                                                                 \n",
      " block3_conv3 (Conv2D)       (None, None, None, 256)   590080    \n",
      "                                                                 \n",
      " block3_pool (MaxPooling2D)  (None, None, None, 256)   0         \n",
      "                                                                 \n",
      " block4_conv1 (Conv2D)       (None, None, None, 512)   1180160   \n",
      "                                                                 \n",
      " block4_conv2 (Conv2D)       (None, None, None, 512)   2359808   \n",
      "                                                                 \n",
      " block4_conv3 (Conv2D)       (None, None, None, 512)   2359808   \n",
      "                                                                 \n",
      " block4_pool (MaxPooling2D)  (None, None, None, 512)   0         \n",
      "                                                                 \n",
      " block5_conv1 (Conv2D)       (None, None, None, 512)   2359808   \n",
      "                                                                 \n",
      " block5_conv2 (Conv2D)       (None, None, None, 512)   2359808   \n",
      "                                                                 \n",
      " block5_conv3 (Conv2D)       (None, None, None, 512)   2359808   \n",
      "                                                                 \n",
      " block5_pool (MaxPooling2D)  (None, None, None, 512)   0         \n",
      "                                                                 \n",
      "=================================================================\n",
      "Total params: 14,714,688\n",
      "Trainable params: 14,714,688\n",
      "Non-trainable params: 0\n",
      "_________________________________________________________________\n"
     ]
    }
   ],
   "source": [
    "vgg16 = keras.applications.vgg16\n",
    "conv_model = vgg16.VGG16(weights='imagenet', include_top=False)\n",
    "conv_model.summary()"
   ]
  },
  {
   "cell_type": "markdown",
   "metadata": {},
   "source": [
    "# Load Dataset"
   ]
  },
  {
   "cell_type": "code",
   "execution_count": 6,
   "metadata": {},
   "outputs": [],
   "source": [
    "TRAINING_DIR = \"Dataset_Split/train\"\n",
    "VALIDATION_DIR = \"Dataset_Split/val\"\n",
    "from tensorflow.keras.preprocessing.image import ImageDataGenerator\n",
    "batch_size = 46\n",
    "\n",
    "def DataLoad(shape, preprocessing): \n",
    "    '''Create the training and validation datasets for \n",
    "    a given image shape.\n",
    "    '''   \n",
    "    training_datagen = ImageDataGenerator(\n",
    "        rescale = 1./255,\n",
    "        preprocessing_function = preprocessing,\n",
    "        horizontal_flip = True, \n",
    "        validation_split = 0.1)\n",
    "\n",
    "    validation_datagen = ImageDataGenerator(rescale = 1./255)\n",
    "    \n",
    "    height, width = shape\n",
    "\n",
    "    train_dataset = training_datagen.flow_from_directory(\n",
    "        TRAINING_DIR,\n",
    "        target_size=(height, width),\n",
    "        class_mode='categorical',\n",
    "        batch_size=batch_size\n",
    "    )\n",
    "\n",
    "    val_dataset = validation_datagen.flow_from_directory(\n",
    "        VALIDATION_DIR,\n",
    "        target_size=(height, width),\n",
    "        class_mode='categorical',\n",
    "        batch_size=batch_size\n",
    "    )\n",
    "    return train_dataset, val_dataset"
   ]
  },
  {
   "cell_type": "code",
   "execution_count": 7,
   "metadata": {},
   "outputs": [
    {
     "name": "stdout",
     "output_type": "stream",
     "text": [
      "Found 231349 images belonging to 46 classes.\n",
      "Found 57863 images belonging to 46 classes.\n"
     ]
    }
   ],
   "source": [
    "train_dataset, val_dataset = DataLoad((224,224), preprocessing=vgg16.preprocess_input)"
   ]
  },
  {
   "cell_type": "code",
   "execution_count": 8,
   "metadata": {},
   "outputs": [],
   "source": [
    "# Function for plots images with labels within jupyter notebook\n",
    "X_train, y_train = next(train_dataset)"
   ]
  },
  {
   "cell_type": "markdown",
   "metadata": {},
   "source": [
    "# Load Pretrainded Model"
   ]
  },
  {
   "cell_type": "code",
   "execution_count": 9,
   "metadata": {},
   "outputs": [],
   "source": [
    "conv_model = vgg16.VGG16(weights='imagenet', include_top=False, input_shape=(224,224,3))"
   ]
  },
  {
   "cell_type": "code",
   "execution_count": 10,
   "metadata": {},
   "outputs": [
    {
     "name": "stdout",
     "output_type": "stream",
     "text": [
      "Model: \"model\"\n",
      "_________________________________________________________________\n",
      " Layer (type)                Output Shape              Param #   \n",
      "=================================================================\n",
      " input_2 (InputLayer)        [(None, 224, 224, 3)]     0         \n",
      "                                                                 \n",
      " block1_conv1 (Conv2D)       (None, 224, 224, 64)      1792      \n",
      "                                                                 \n",
      " block1_conv2 (Conv2D)       (None, 224, 224, 64)      36928     \n",
      "                                                                 \n",
      " block1_pool (MaxPooling2D)  (None, 112, 112, 64)      0         \n",
      "                                                                 \n",
      " block2_conv1 (Conv2D)       (None, 112, 112, 128)     73856     \n",
      "                                                                 \n",
      " block2_conv2 (Conv2D)       (None, 112, 112, 128)     147584    \n",
      "                                                                 \n",
      " block2_pool (MaxPooling2D)  (None, 56, 56, 128)       0         \n",
      "                                                                 \n",
      " block3_conv1 (Conv2D)       (None, 56, 56, 256)       295168    \n",
      "                                                                 \n",
      " block3_conv2 (Conv2D)       (None, 56, 56, 256)       590080    \n",
      "                                                                 \n",
      " block3_conv3 (Conv2D)       (None, 56, 56, 256)       590080    \n",
      "                                                                 \n",
      " block3_pool (MaxPooling2D)  (None, 28, 28, 256)       0         \n",
      "                                                                 \n",
      " block4_conv1 (Conv2D)       (None, 28, 28, 512)       1180160   \n",
      "                                                                 \n",
      " block4_conv2 (Conv2D)       (None, 28, 28, 512)       2359808   \n",
      "                                                                 \n",
      " block4_conv3 (Conv2D)       (None, 28, 28, 512)       2359808   \n",
      "                                                                 \n",
      " block4_pool (MaxPooling2D)  (None, 14, 14, 512)       0         \n",
      "                                                                 \n",
      " block5_conv1 (Conv2D)       (None, 14, 14, 512)       2359808   \n",
      "                                                                 \n",
      " block5_conv2 (Conv2D)       (None, 14, 14, 512)       2359808   \n",
      "                                                                 \n",
      " block5_conv3 (Conv2D)       (None, 14, 14, 512)       2359808   \n",
      "                                                                 \n",
      " block5_pool (MaxPooling2D)  (None, 7, 7, 512)         0         \n",
      "                                                                 \n",
      " flatten (Flatten)           (None, 25088)             0         \n",
      "                                                                 \n",
      " dense (Dense)               (None, 200)               5017800   \n",
      "                                                                 \n",
      " dense_1 (Dense)             (None, 200)               40200     \n",
      "                                                                 \n",
      " dense_2 (Dense)             (None, 100)               20100     \n",
      "                                                                 \n",
      " dense_3 (Dense)             (None, 46)                4646      \n",
      "                                                                 \n",
      "=================================================================\n",
      "Total params: 19,797,434\n",
      "Trainable params: 19,797,434\n",
      "Non-trainable params: 0\n",
      "_________________________________________________________________\n"
     ]
    }
   ],
   "source": [
    "#  flatten the output of the convolutional part: \n",
    "x = keras.layers.Flatten()(conv_model.output)\n",
    "# three hidden layers\n",
    "x = keras.layers.Dense(200, activation='relu')(x)\n",
    "x = keras.layers.Dense(200, activation='relu')(x)\n",
    "x = keras.layers.Dense(100, activation='relu')(x)\n",
    "# final softmax layer with 15 categories\n",
    "predictions = keras.layers.Dense(46, activation='softmax')(x)\n",
    "\n",
    "# creating the full model:\n",
    "full_model = keras.models.Model(inputs=conv_model.input, outputs=predictions)\n",
    "full_model.summary()"
   ]
  },
  {
   "cell_type": "markdown",
   "metadata": {},
   "source": [
    "# Train the Model"
   ]
  },
  {
   "cell_type": "code",
   "execution_count": 9,
   "metadata": {},
   "outputs": [],
   "source": [
    "for layer in conv_model.layers:\n",
    "    layer.trainable = False"
   ]
  },
  {
   "cell_type": "code",
   "execution_count": 10,
   "metadata": {},
   "outputs": [],
   "source": [
    "from tensorflow.keras.optimizers import Adam\n",
    "# Set the training parameters\n",
    "full_model.compile(loss = 'categorical_crossentropy', optimizer=Adam(learning_rate=0.001), metrics=['accuracy'])"
   ]
  },
  {
   "cell_type": "code",
   "execution_count": 12,
   "metadata": {},
   "outputs": [
    {
     "name": "stdout",
     "output_type": "stream",
     "text": [
      "Epoch 1/10\n",
      "200/200 [==============================] - 410s 2s/step - loss: 1.8761 - accuracy: 0.4600 - val_loss: 1.9478 - val_accuracy: 0.4417\n",
      "Epoch 2/10\n",
      "200/200 [==============================] - 411s 2s/step - loss: 1.7891 - accuracy: 0.4779 - val_loss: 1.9543 - val_accuracy: 0.4372\n",
      "Epoch 3/10\n",
      "200/200 [==============================] - 416s 2s/step - loss: 1.7277 - accuracy: 0.4892 - val_loss: 1.9180 - val_accuracy: 0.4411\n",
      "Epoch 4/10\n",
      "200/200 [==============================] - 417s 2s/step - loss: 1.7045 - accuracy: 0.4929 - val_loss: 1.8862 - val_accuracy: 0.4524\n",
      "Epoch 5/10\n",
      "200/200 [==============================] - 414s 2s/step - loss: 1.6581 - accuracy: 0.5117 - val_loss: 1.8420 - val_accuracy: 0.4719\n",
      "Epoch 6/10\n",
      "200/200 [==============================] - 419s 2s/step - loss: 1.6420 - accuracy: 0.5124 - val_loss: 1.8314 - val_accuracy: 0.4719\n",
      "Epoch 7/10\n",
      "200/200 [==============================] - 418s 2s/step - loss: 1.6139 - accuracy: 0.5214 - val_loss: 1.7952 - val_accuracy: 0.4823\n",
      "Epoch 8/10\n",
      "200/200 [==============================] - 685s 3s/step - loss: 1.5978 - accuracy: 0.5278 - val_loss: 1.8258 - val_accuracy: 0.4765\n",
      "Epoch 9/10\n",
      "200/200 [==============================] - 401s 2s/step - loss: 1.6019 - accuracy: 0.5296 - val_loss: 1.7760 - val_accuracy: 0.4855\n",
      "Epoch 10/10\n",
      "200/200 [==============================] - 392s 2s/step - loss: 1.5966 - accuracy: 0.5316 - val_loss: 1.7718 - val_accuracy: 0.4901\n"
     ]
    }
   ],
   "source": [
    "# Train the model\n",
    "history = full_model.fit(train_dataset, epochs=10, steps_per_epoch=200, validation_data = val_dataset)"
   ]
  },
  {
   "cell_type": "markdown",
   "metadata": {},
   "source": [
    "# Evaluate"
   ]
  },
  {
   "cell_type": "code",
   "execution_count": 13,
   "metadata": {},
   "outputs": [
    {
     "data": {
      "image/png": "[encoded data removed]",
      "text/plain": [
       "<Figure size 432x288 with 1 Axes>"
      ]
     },
     "metadata": {
      "needs_background": "light"
     },
     "output_type": "display_data"
    },
    {
     "data": {
      "text/plain": [
       "<Figure size 432x288 with 0 Axes>"
      ]
     },
     "metadata": {},
     "output_type": "display_data"
    },
    {
     "data": {
      "image/png": "[encoded data removed]",
      "text/plain": [
       "<Figure size 432x288 with 1 Axes>"
      ]
     },
     "metadata": {
      "needs_background": "light"
     },
     "output_type": "display_data"
    }
   ],
   "source": [
    "def plot_history(history):\n",
    "    '''Plot loss and accuracy as a function of the epoch,\n",
    "    for the training and validation datasets.\n",
    "    '''\n",
    "    acc = history.history['accuracy']\n",
    "    val_acc = history.history['val_accuracy']\n",
    "    loss = history.history['loss']\n",
    "    val_loss = history.history['val_loss']\n",
    "\n",
    "    # Get number of epochs\n",
    "    epochs = range(len(acc))\n",
    "\n",
    "    # Plot training and validation accuracy per epoch\n",
    "    \n",
    "    plt.plot(epochs, acc, 'r', label='Training accuracy')\n",
    "    plt.plot(epochs, val_acc, 'b', label='Validation accuracy')\n",
    "    plt.title('Training and validation accuracy')\n",
    "    plt.legend(loc=0)\n",
    "    plt.figure()\n",
    "\n",
    "    \n",
    "    # Plot training and validation loss per epoch\n",
    "    plt.figure()\n",
    "\n",
    "    plt.plot(epochs, loss, label='loss')\n",
    "    plt.plot(epochs, val_loss, label='validation loss')\n",
    "    plt.title('Training and validation loss')\n",
    "    plt.legend(loc=0)\n",
    "    \n",
    "    plt.show()\n",
    "    \n",
    "plot_history(history)"
   ]
  },
  {
   "cell_type": "markdown",
   "metadata": {},
   "source": [
    "# Save Model"
   ]
  },
  {
   "cell_type": "code",
   "execution_count": 19,
   "metadata": {},
   "outputs": [],
   "source": [
    "# Save the entire model as my_model in .h5 format\n",
    "# !mkdir saved_model\n",
    "full_model.save('my_model.h5')"
   ]
  },
  {
   "cell_type": "code",
   "execution_count": 15,
   "metadata": {},
   "outputs": [
    {
     "name": "stdout",
     "output_type": "stream",
     "text": [
      "INFO:tensorflow:Assets written to: my_model\\assets\n"
     ]
    }
   ],
   "source": [
    "# Save the entire model as my_model \n",
    "# !mkdir saved_model\n",
    "full_model.save('my_model')"
   ]
  },
  {
   "cell_type": "markdown",
   "metadata": {},
   "source": [
    "# Load Model"
   ]
  },
  {
   "cell_type": "code",
   "execution_count": 41,
   "metadata": {},
   "outputs": [
    {
     "name": "stdout",
     "output_type": "stream",
     "text": [
      "Model: \"model\"\n",
      "_________________________________________________________________\n",
      " Layer (type)                Output Shape              Param #   \n",
      "=================================================================\n",
      " input_2 (InputLayer)        [(None, 224, 224, 3)]     0         \n",
      "                                                                 \n",
      " block1_conv1 (Conv2D)       (None, 224, 224, 64)      1792      \n",
      "                                                                 \n",
      " block1_conv2 (Conv2D)       (None, 224, 224, 64)      36928     \n",
      "                                                                 \n",
      " block1_pool (MaxPooling2D)  (None, 112, 112, 64)      0         \n",
      "                                                                 \n",
      " block2_conv1 (Conv2D)       (None, 112, 112, 128)     73856     \n",
      "                                                                 \n",
      " block2_conv2 (Conv2D)       (None, 112, 112, 128)     147584    \n",
      "                                                                 \n",
      " block2_pool (MaxPooling2D)  (None, 56, 56, 128)       0         \n",
      "                                                                 \n",
      " block3_conv1 (Conv2D)       (None, 56, 56, 256)       295168    \n",
      "                                                                 \n",
      " block3_conv2 (Conv2D)       (None, 56, 56, 256)       590080    \n",
      "                                                                 \n",
      " block3_conv3 (Conv2D)       (None, 56, 56, 256)       590080    \n",
      "                                                                 \n",
      " block3_pool (MaxPooling2D)  (None, 28, 28, 256)       0         \n",
      "                                                                 \n",
      " block4_conv1 (Conv2D)       (None, 28, 28, 512)       1180160   \n",
      "                                                                 \n",
      " block4_conv2 (Conv2D)       (None, 28, 28, 512)       2359808   \n",
      "                                                                 \n",
      " block4_conv3 (Conv2D)       (None, 28, 28, 512)       2359808   \n",
      "                                                                 \n",
      " block4_pool (MaxPooling2D)  (None, 14, 14, 512)       0         \n",
      "                                                                 \n",
      " block5_conv1 (Conv2D)       (None, 14, 14, 512)       2359808   \n",
      "                                                                 \n",
      " block5_conv2 (Conv2D)       (None, 14, 14, 512)       2359808   \n",
      "                                                                 \n",
      " block5_conv3 (Conv2D)       (None, 14, 14, 512)       2359808   \n",
      "                                                                 \n",
      " block5_pool (MaxPooling2D)  (None, 7, 7, 512)         0         \n",
      "                                                                 \n",
      " flatten (Flatten)           (None, 25088)             0         \n",
      "                                                                 \n",
      " dense (Dense)               (None, 200)               5017800   \n",
      "                                                                 \n",
      " dense_1 (Dense)             (None, 200)               40200     \n",
      "                                                                 \n",
      " dense_2 (Dense)             (None, 100)               20100     \n",
      "                                                                 \n",
      " dense_3 (Dense)             (None, 46)                4646      \n",
      "                                                                 \n",
      "=================================================================\n",
      "Total params: 19,797,434\n",
      "Trainable params: 5,082,746\n",
      "Non-trainable params: 14,714,688\n",
      "_________________________________________________________________\n"
     ]
    }
   ],
   "source": [
    "# Recreate the exact same model, including its weights and the optimizer\n",
    "load_model = tf.keras.models.load_model('my_model3.h5')\n",
    "\n",
    "# Show the model architecture\n",
    "load_model.summary()"
   ]
  },
  {
   "cell_type": "markdown",
   "metadata": {},
   "source": [
    "# Continue Training"
   ]
  },
  {
   "cell_type": "code",
   "execution_count": 21,
   "metadata": {},
   "outputs": [
    {
     "name": "stdout",
     "output_type": "stream",
     "text": [
      "Epoch 1/5\n",
      "200/200 [==============================] - 413s 2s/step - loss: 1.5761 - accuracy: 0.5376 - val_loss: 1.7527 - val_accuracy: 0.4882\n",
      "Epoch 2/5\n",
      "200/200 [==============================] - 406s 2s/step - loss: 1.5471 - accuracy: 0.5462 - val_loss: 1.7948 - val_accuracy: 0.4842\n",
      "Epoch 3/5\n",
      "200/200 [==============================] - 411s 2s/step - loss: 1.5528 - accuracy: 0.5390 - val_loss: 1.7753 - val_accuracy: 0.4925\n",
      "Epoch 4/5\n",
      "200/200 [==============================] - 408s 2s/step - loss: 1.5032 - accuracy: 0.5553 - val_loss: 1.8645 - val_accuracy: 0.4643\n",
      "Epoch 5/5\n",
      "200/200 [==============================] - 410s 2s/step - loss: 1.5291 - accuracy: 0.5525 - val_loss: 1.8914 - val_accuracy: 0.4431\n"
     ]
    }
   ],
   "source": [
    "# Train the model\n",
    "history = load_model.fit(train_dataset, epochs=5, steps_per_epoch=200, validation_data = val_dataset)"
   ]
  },
  {
   "cell_type": "code",
   "execution_count": 22,
   "metadata": {},
   "outputs": [
    {
     "data": {
      "image/png": "[encoded data removed]",
      "text/plain": [
       "<Figure size 432x288 with 1 Axes>"
      ]
     },
     "metadata": {
      "needs_background": "light"
     },
     "output_type": "display_data"
    },
    {
     "data": {
      "text/plain": [
       "<Figure size 432x288 with 0 Axes>"
      ]
     },
     "metadata": {},
     "output_type": "display_data"
    },
    {
     "data": {
      "image/png": "[encoded data removed]",
      "text/plain": [
       "<Figure size 432x288 with 1 Axes>"
      ]
     },
     "metadata": {
      "needs_background": "light"
     },
     "output_type": "display_data"
    }
   ],
   "source": [
    "def plot_history(history):\n",
    "    '''Plot loss and accuracy as a function of the epoch,\n",
    "    for the training and validation datasets.\n",
    "    '''\n",
    "    acc = history.history['accuracy']\n",
    "    val_acc = history.history['val_accuracy']\n",
    "    loss = history.history['loss']\n",
    "    val_loss = history.history['val_loss']\n",
    "\n",
    "    # Get number of epochs\n",
    "    epochs = range(len(acc))\n",
    "\n",
    "    # Plot training and validation accuracy per epoch\n",
    "    \n",
    "    plt.plot(epochs, acc, 'r', label='Training accuracy')\n",
    "    plt.plot(epochs, val_acc, 'b', label='Validation accuracy')\n",
    "    plt.title('Training and validation accuracy')\n",
    "    plt.legend(loc=0)\n",
    "    plt.figure()\n",
    "    \n",
    "    # Plot training and validation loss per epoch\n",
    "    plt.figure()\n",
    "\n",
    "    plt.plot(epochs, loss, label='loss')\n",
    "    plt.plot(epochs, val_loss, label='validation loss')\n",
    "    plt.title('Training and validation loss')\n",
    "    plt.legend(loc=0)\n",
    "    \n",
    "    plt.show()\n",
    "    \n",
    "plot_history(history)"
   ]
  },
  {
   "cell_type": "code",
   "execution_count": 23,
   "metadata": {},
   "outputs": [],
   "source": [
    "# Save the entire model as my_model in .h5 format\n",
    "# !mkdir saved_model\n",
    "load_model.save('my_model2.h5')"
   ]
  },
  {
   "cell_type": "code",
   "execution_count": 28,
   "metadata": {},
   "outputs": [
    {
     "name": "stdout",
     "output_type": "stream",
     "text": [
      "Model: \"model\"\n",
      "_________________________________________________________________\n",
      " Layer (type)                Output Shape              Param #   \n",
      "=================================================================\n",
      " input_2 (InputLayer)        [(None, 224, 224, 3)]     0         \n",
      "                                                                 \n",
      " block1_conv1 (Conv2D)       (None, 224, 224, 64)      1792      \n",
      "                                                                 \n",
      " block1_conv2 (Conv2D)       (None, 224, 224, 64)      36928     \n",
      "                                                                 \n",
      " block1_pool (MaxPooling2D)  (None, 112, 112, 64)      0         \n",
      "                                                                 \n",
      " block2_conv1 (Conv2D)       (None, 112, 112, 128)     73856     \n",
      "                                                                 \n",
      " block2_conv2 (Conv2D)       (None, 112, 112, 128)     147584    \n",
      "                                                                 \n",
      " block2_pool (MaxPooling2D)  (None, 56, 56, 128)       0         \n",
      "                                                                 \n",
      " block3_conv1 (Conv2D)       (None, 56, 56, 256)       295168    \n",
      "                                                                 \n",
      " block3_conv2 (Conv2D)       (None, 56, 56, 256)       590080    \n",
      "                                                                 \n",
      " block3_conv3 (Conv2D)       (None, 56, 56, 256)       590080    \n",
      "                                                                 \n",
      " block3_pool (MaxPooling2D)  (None, 28, 28, 256)       0         \n",
      "                                                                 \n",
      " block4_conv1 (Conv2D)       (None, 28, 28, 512)       1180160   \n",
      "                                                                 \n",
      " block4_conv2 (Conv2D)       (None, 28, 28, 512)       2359808   \n",
      "                                                                 \n",
      " block4_conv3 (Conv2D)       (None, 28, 28, 512)       2359808   \n",
      "                                                                 \n",
      " block4_pool (MaxPooling2D)  (None, 14, 14, 512)       0         \n",
      "                                                                 \n",
      " block5_conv1 (Conv2D)       (None, 14, 14, 512)       2359808   \n",
      "                                                                 \n",
      " block5_conv2 (Conv2D)       (None, 14, 14, 512)       2359808   \n",
      "                                                                 \n",
      " block5_conv3 (Conv2D)       (None, 14, 14, 512)       2359808   \n",
      "                                                                 \n",
      " block5_pool (MaxPooling2D)  (None, 7, 7, 512)         0         \n",
      "                                                                 \n",
      " flatten (Flatten)           (None, 25088)             0         \n",
      "                                                                 \n",
      " dense (Dense)               (None, 200)               5017800   \n",
      "                                                                 \n",
      " dense_1 (Dense)             (None, 200)               40200     \n",
      "                                                                 \n",
      " dense_2 (Dense)             (None, 100)               20100     \n",
      "                                                                 \n",
      " dense_3 (Dense)             (None, 46)                4646      \n",
      "                                                                 \n",
      "=================================================================\n",
      "Total params: 19,797,434\n",
      "Trainable params: 5,082,746\n",
      "Non-trainable params: 14,714,688\n",
      "_________________________________________________________________\n"
     ]
    }
   ],
   "source": [
    "# Recreate the exact same model, including its weights and the optimizer\n",
    "load_model2 = tf.keras.models.load_model('my_model2.h5')\n",
    "\n",
    "# Show the model architecture\n",
    "load_model2.summary()"
   ]
  },
  {
   "cell_type": "code",
   "execution_count": 29,
   "metadata": {},
   "outputs": [
    {
     "name": "stdout",
     "output_type": "stream",
     "text": [
      "Epoch 1/10\n",
      "200/200 [==============================] - 397s 2s/step - loss: 1.5170 - accuracy: 0.5478 - val_loss: 1.6946 - val_accuracy: 0.5123\n",
      "Epoch 2/10\n",
      "200/200 [==============================] - 388s 2s/step - loss: 1.4961 - accuracy: 0.5573 - val_loss: 1.7632 - val_accuracy: 0.4861\n",
      "Epoch 3/10\n",
      "200/200 [==============================] - 389s 2s/step - loss: 1.5032 - accuracy: 0.5553 - val_loss: 1.7432 - val_accuracy: 0.4919\n",
      "Epoch 4/10\n",
      "200/200 [==============================] - 409s 2s/step - loss: 1.5418 - accuracy: 0.5463 - val_loss: 1.8585 - val_accuracy: 0.4626\n",
      "Epoch 5/10\n",
      "200/200 [==============================] - 397s 2s/step - loss: 1.5095 - accuracy: 0.5504 - val_loss: 1.7371 - val_accuracy: 0.4955\n",
      "Epoch 6/10\n",
      "200/200 [==============================] - 441s 2s/step - loss: 1.5026 - accuracy: 0.5528 - val_loss: 1.8060 - val_accuracy: 0.4815\n",
      "Epoch 7/10\n",
      "200/200 [==============================] - 407s 2s/step - loss: 1.5107 - accuracy: 0.5527 - val_loss: 1.7832 - val_accuracy: 0.4883\n",
      "Epoch 8/10\n",
      "200/200 [==============================] - 407s 2s/step - loss: 1.4889 - accuracy: 0.5590 - val_loss: 1.7745 - val_accuracy: 0.4860\n",
      "Epoch 9/10\n",
      "200/200 [==============================] - 403s 2s/step - loss: 1.4758 - accuracy: 0.5638 - val_loss: 1.7872 - val_accuracy: 0.4811\n",
      "Epoch 10/10\n",
      "200/200 [==============================] - 398s 2s/step - loss: 1.4505 - accuracy: 0.5677 - val_loss: 1.7675 - val_accuracy: 0.4875\n"
     ]
    }
   ],
   "source": [
    "# Train the model\n",
    "history = load_model2.fit(train_dataset, epochs=10, steps_per_epoch=200, validation_data = val_dataset)"
   ]
  },
  {
   "cell_type": "code",
   "execution_count": 32,
   "metadata": {},
   "outputs": [
    {
     "data": {
      "image/png": "[encoded data removed]",
      "text/plain": [
       "<Figure size 432x288 with 1 Axes>"
      ]
     },
     "metadata": {
      "needs_background": "light"
     },
     "output_type": "display_data"
    },
    {
     "data": {
      "text/plain": [
       "<Figure size 432x288 with 0 Axes>"
      ]
     },
     "metadata": {},
     "output_type": "display_data"
    },
    {
     "data": {
      "image/png": "[encoded data removed]",
      "text/plain": [
       "<Figure size 432x288 with 1 Axes>"
      ]
     },
     "metadata": {
      "needs_background": "light"
     },
     "output_type": "display_data"
    }
   ],
   "source": [
    "def plot_history(history):\n",
    "    '''Plot loss and accuracy as a function of the epoch,\n",
    "    for the training and validation datasets.\n",
    "    '''\n",
    "    acc = history.history['accuracy']\n",
    "    val_acc = history.history['val_accuracy']\n",
    "    loss = history.history['loss']\n",
    "    val_loss = history.history['val_loss']\n",
    "\n",
    "    # Get number of epochs\n",
    "    epochs = range(len(acc))\n",
    "\n",
    "    # Plot training and validation accuracy per epoch\n",
    "    \n",
    "    plt.plot(epochs, acc, 'r', label='Training accuracy')\n",
    "    plt.plot(epochs, val_acc, 'b', label='Validation accuracy')\n",
    "    plt.title('Training and validation accuracy')\n",
    "    plt.legend(loc=0)\n",
    "    plt.figure()\n",
    "    \n",
    "    # Plot training and validation loss per epoch\n",
    "    plt.figure()\n",
    "\n",
    "    plt.plot(epochs, loss, label='loss')\n",
    "    plt.plot(epochs, val_loss, label='validation loss')\n",
    "    plt.title('Training and validation loss')\n",
    "    plt.legend(loc=0)\n",
    "    \n",
    "    plt.show()\n",
    "    \n",
    "plot_history(history)"
   ]
  },
  {
   "cell_type": "code",
   "execution_count": 50,
   "metadata": {},
   "outputs": [],
   "source": [
    "# Save the entire model as my_model in .h5 format\n",
    "# !mkdir saved_model\n",
    "load_model2.save('my_model3.h5')"
   ]
  },
  {
   "cell_type": "code",
   "execution_count": 17,
   "metadata": {},
   "outputs": [
    {
     "name": "stdout",
     "output_type": "stream",
     "text": [
      "Model: \"model\"\n",
      "_________________________________________________________________\n",
      " Layer (type)                Output Shape              Param #   \n",
      "=================================================================\n",
      " input_2 (InputLayer)        [(None, 224, 224, 3)]     0         \n",
      "                                                                 \n",
      " block1_conv1 (Conv2D)       (None, 224, 224, 64)      1792      \n",
      "                                                                 \n",
      " block1_conv2 (Conv2D)       (None, 224, 224, 64)      36928     \n",
      "                                                                 \n",
      " block1_pool (MaxPooling2D)  (None, 112, 112, 64)      0         \n",
      "                                                                 \n",
      " block2_conv1 (Conv2D)       (None, 112, 112, 128)     73856     \n",
      "                                                                 \n",
      " block2_conv2 (Conv2D)       (None, 112, 112, 128)     147584    \n",
      "                                                                 \n",
      " block2_pool (MaxPooling2D)  (None, 56, 56, 128)       0         \n",
      "                                                                 \n",
      " block3_conv1 (Conv2D)       (None, 56, 56, 256)       295168    \n",
      "                                                                 \n",
      " block3_conv2 (Conv2D)       (None, 56, 56, 256)       590080    \n",
      "                                                                 \n",
      " block3_conv3 (Conv2D)       (None, 56, 56, 256)       590080    \n",
      "                                                                 \n",
      " block3_pool (MaxPooling2D)  (None, 28, 28, 256)       0         \n",
      "                                                                 \n",
      " block4_conv1 (Conv2D)       (None, 28, 28, 512)       1180160   \n",
      "                                                                 \n",
      " block4_conv2 (Conv2D)       (None, 28, 28, 512)       2359808   \n",
      "                                                                 \n",
      " block4_conv3 (Conv2D)       (None, 28, 28, 512)       2359808   \n",
      "                                                                 \n",
      " block4_pool (MaxPooling2D)  (None, 14, 14, 512)       0         \n",
      "                                                                 \n",
      " block5_conv1 (Conv2D)       (None, 14, 14, 512)       2359808   \n",
      "                                                                 \n",
      " block5_conv2 (Conv2D)       (None, 14, 14, 512)       2359808   \n",
      "                                                                 \n",
      " block5_conv3 (Conv2D)       (None, 14, 14, 512)       2359808   \n",
      "                                                                 \n",
      " block5_pool (MaxPooling2D)  (None, 7, 7, 512)         0         \n",
      "                                                                 \n",
      " flatten (Flatten)           (None, 25088)             0         \n",
      "                                                                 \n",
      " dense (Dense)               (None, 200)               5017800   \n",
      "                                                                 \n",
      " dense_1 (Dense)             (None, 200)               40200     \n",
      "                                                                 \n",
      " dense_2 (Dense)             (None, 100)               20100     \n",
      "                                                                 \n",
      " dense_3 (Dense)             (None, 46)                4646      \n",
      "                                                                 \n",
      "=================================================================\n",
      "Total params: 19,797,434\n",
      "Trainable params: 5,082,746\n",
      "Non-trainable params: 14,714,688\n",
      "_________________________________________________________________\n"
     ]
    }
   ],
   "source": [
    "# Recreate the exact same model, including its weights and the optimizer\n",
    "load_model2 = tf.keras.models.load_model('my_model3.h5')\n",
    "\n",
    "# Show the model architecture\n",
    "load_model2.summary()"
   ]
  },
  {
   "cell_type": "code",
   "execution_count": 18,
   "metadata": {},
   "outputs": [
    {
     "name": "stdout",
     "output_type": "stream",
     "text": [
      "{'Anorak': 0, 'Blazer': 1, 'Blouse': 2, 'Bomber': 3, 'Button-Down': 4, 'Caftan': 5, 'Capris': 6, 'Cardigan': 7, 'Chinos': 8, 'Coat': 9, 'Coverup': 10, 'Culottes': 11, 'Cutoffs': 12, 'Dress': 13, 'Flannel': 14, 'Gauchos': 15, 'Halter': 16, 'Henley': 17, 'Hoodie': 18, 'Jacket': 19, 'Jeans': 20, 'Jeggings': 21, 'Jersey': 22, 'Jodhpurs': 23, 'Joggers': 24, 'Jumpsuit': 25, 'Kaftan': 26, 'Kimono': 27, 'Leggings': 28, 'Onesie': 29, 'Parka': 30, 'Peacoat': 31, 'Poncho': 32, 'Robe': 33, 'Romper': 34, 'Sarong': 35, 'Shorts': 36, 'Skirt': 37, 'Sweater': 38, 'Sweatpants': 39, 'Sweatshorts': 40, 'Tank': 41, 'Tee': 42, 'Top': 43, 'Trunks': 44, 'Turtleneck': 45}\n"
     ]
    }
   ],
   "source": [
    "label_map = (train_dataset.class_indices)\n",
    "print(label_map)"
   ]
  },
  {
   "cell_type": "markdown",
   "metadata": {},
   "source": [
    "# Load Model Test"
   ]
  },
  {
   "cell_type": "code",
   "execution_count": 32,
   "metadata": {},
   "outputs": [
    {
     "data": {
      "image/png": "[encoded data removed]",
      "text/plain": [
       "<Figure size 8928x720 with 1 Axes>"
      ]
     },
     "metadata": {
      "needs_background": "light"
     },
     "output_type": "display_data"
    }
   ],
   "source": [
    "# load_model_sample.py\n",
    "from keras.models import load_model\n",
    "from keras.preprocessing import image\n",
    "import matplotlib.pyplot as plt\n",
    "import numpy as np\n",
    "import os\n",
    "\n",
    "\n",
    "def load_image(img_path, show=False):\n",
    "\n",
    "    img = image.load_img(img_path, target_size=(224, 224))\n",
    "    img_tensor = image.img_to_array(img)                    # (height, width, channels)\n",
    "    img_tensor = np.expand_dims(img_tensor, axis=0)         # (1, height, width, channels), add a dimension because the model expects this shape: (batch_size, height, width, channels)\n",
    "    img_tensor /= 255.                                      # imshow expects values in the range [0, 1]\n",
    "\n",
    "    if show:\n",
    "        plt.imshow(img_tensor[0])                           \n",
    "        plt.axis('off')\n",
    "        plt.show()\n",
    "\n",
    "    return img_tensor\n",
    "\n",
    "\n",
    "if __name__ == \"__main__\":\n",
    "\n",
    "    # load model\n",
    "    model = load_model(\"my_model3.h5\")\n",
    "\n",
    "    # image path\n",
    "    img_path = 'Dataset_Split/val/Dress/195581img_00000062.jpg'\n",
    "\n",
    "    # load a single image\n",
    "    new_image = load_image(img_path)\n",
    "\n",
    "    # check prediction\n",
    "    pred = model.predict_step(new_image)\n",
    "    \n",
    "    # print(pred[0])\n",
    "    \n",
    "names = ['Anorak', 'Blazer', 'Blouse', 'Bomber', 'Button-Down', 'Caftan', 'Capris', 'Cardigan',\n",
    "         'Chinos', 'Coat', 'Coverup', 'Culottes', 'Cutoffs', 'Dress', 'Flannel', 'Gauchos', 'Halter',\n",
    "         'Henley', 'Hoodie', 'Jacket', 'Jeans', 'Jeggings', 'Jersey', 'Jodhpurs', 'Joggers', 'Jumpsuit', 'Kaftan',\n",
    "         'Kimono', 'Leggings', ' Onesie', 'Parka', 'Peancoat', 'Poncho', 'Robe', 'Romper', 'Sarong',\n",
    "         'Shorts', 'Skirt', 'Sweater', 'Sweatpants', 'Sweatshorts', 'Tank', 'Tee', 'Top', 'Trunks', 'Turtleneck']\n",
    "values = np.array(pred[0])\n",
    "\n",
    "plt.figure(figsize=(124, 10))\n",
    "\n",
    "plt.subplot(131)\n",
    "plt.bar(names, values)\n",
    "# plt.suptitle('Categorical Plotting')\n",
    "plt.show()\n",
    " \n"
   ]
  },
  {
   "cell_type": "markdown",
   "metadata": {},
   "source": [
    "# Confussion Matrix"
   ]
  },
  {
   "cell_type": "code",
   "execution_count": 11,
   "metadata": {},
   "outputs": [],
   "source": [
    "from tensorflow.keras.preprocessing.image import ImageDataGenerator\n",
    "test_dir=VALIDATION_DIR\n",
    "test_datagen = ImageDataGenerator()"
   ]
  },
  {
   "cell_type": "code",
   "execution_count": 27,
   "metadata": {},
   "outputs": [
    {
     "name": "stdout",
     "output_type": "stream",
     "text": [
      "Found 57863 images belonging to 46 classes.\n",
      "\n",
      "Predicted: Dress\n",
      "True: Shorts\n",
      "\n",
      "Predicted: Tee\n",
      "True: Blouse\n",
      "\n",
      "Predicted: Jeans\n",
      "True: Tee\n",
      "\n",
      "Predicted: Dress\n",
      "True: Dress\n",
      "\n",
      "Predicted: Dress\n",
      "True: Dress\n",
      "\n"
     ]
    }
   ],
   "source": [
    "test_generator = test_datagen.flow_from_directory(test_dir, target_size=(224, 224), batch_size=500, class_mode='categorical')\n",
    "X_test, y_test = next(test_generator)\n",
    "X_test=X_test/255\n",
    "preds = load_model2.predict(X_test)\n",
    "pred_labels = np.argmax(preds, axis=1)\n",
    "true_labels = np.argmax(y_test, axis=1)\n",
    "print('')\n",
    "\n",
    "names = ['Anorak', 'Blazer', 'Blouse', 'Bomber', 'Button-Down', 'Caftan', 'Capris', 'Cardigan',\n",
    "         'Chinos', 'Coat', 'Coverup', 'Culottes', 'Cutoffs', 'Dress', 'Flannel', 'Gauchos', 'Halter',\n",
    "         'Henley', 'Hoodie', 'Jacket', 'Jeans', 'Jeggings', 'Jersey', 'Jodhpurs', 'Joggers', 'Jumpsuit', 'Kaftan',\n",
    "         'Kimono', 'Leggings', ' Onesie', 'Parka', 'Peancoat', 'Poncho', 'Robe', 'Romper', 'Sarong',\n",
    "         'Shorts', 'Skirt', 'Sweater', 'Sweatpants', 'Sweatshorts', 'Tank', 'Tee', 'Top', 'Trunks', 'Turtleneck']\n",
    "\n",
    "for i in range(0,5):\n",
    "    class_labels2=[names[i] for i,prob in enumerate(y_test[i]) if prob > 0.0]\n",
    "    print(\"Predicted:\",names[np.argmax(preds[i])])\n",
    "    print(\"True:\",names[np.argmax(y_test[i])])\n",
    "    print('')\n",
    "\n"
   ]
  },
  {
   "cell_type": "code",
   "execution_count": 28,
   "metadata": {},
   "outputs": [
    {
     "name": "stdout",
     "output_type": "stream",
     "text": [
      "tf.Tensor(\n",
      "[13 42 20 13 13 25 13 37  7  2  1  2 24 13 42 42 13 42 41  1 42 13 38  2\n",
      " 13 37 38 24  2 24 38 39 25  2 38 13 41 24 25 42 42  7 38 42 13 13 42 13\n",
      " 20  2 20 13 13 42 13 42 13 42 13 38 13 28 24 13 13 38 36 20 13  1 13 19\n",
      " 38  1 42 42 19  1 19  7 41 13 36  7 13 38 13 13 19 41 42 13 24 42 42  7\n",
      " 13 18 20  2 41 20 42 24 20 13 42 13 42 37 42  2 13  2 41 13 42 13 37 42\n",
      "  2 42  7  2 42 13 19 13 13 13 25 42 13 13 42 20 20  7 13 38 38 13 13 37\n",
      " 13 42 39 42 20 13 13 13 13 42 42  2  2 20 37 13 13 42 42 41 42 37  7  7\n",
      "  2 13 13 38  2 28 27 13 42 41  2 13 42 13  2 39 20 39  1 20 13 13 42 42\n",
      " 37 36 36  1 13 13 13 42  7 13 13 13 42 13 13 24 13 18 13 25  1 13 41 42\n",
      "  2 41  7 13 13 13 42 42 42  7 13 41 13 13 42 13 42 24 42 13 38 37  2 42\n",
      " 39 38 20  2 42 20  2 20 20 38 42 36 42 13 41 42 39 42 42 42 13 13 13 13\n",
      " 13 38 28 42 24 38 41 13 42  2  2 13 28 20 13 20  7 20 13 36 42 13  2 42\n",
      " 13 38 42 20  2  7 13 13 13 13 13 20 20 41 13 41 42  7 37 41 13 13 13 41\n",
      " 13 13  2 13 13 36 24  7 37 13 13 41 38 20 13 41 36 42 41 13  2 24 13 42\n",
      " 42 13 41 42 42 36 13 13 42 19 38 25 13 42  2 42 25 42 36 41  9 38  7 41\n",
      " 13 36 13 20 42 25 42  7 13 13 42 42 13 38 38 38 13  1 42 13 42 42 38 13\n",
      " 13 42 41 42  7  2 42 37 13 42 41 13 13 41 38  1 37 38 13 39  2 20 42 13\n",
      "  2 38 38 36 13 13 13 13 13 13 41 28 24 41 20 27  1 41 24 13 20 37 25  2\n",
      " 41 13 41 13  2 37  1  2 13 38 38 42 13 42  2  2 13 13 13 13 13 19 36 41\n",
      " 20 42 13 25 41 42 13 42 13  7 41 13 42 19 38 13 13 13 24  1 42 42  2 41\n",
      " 42 37  7 13 25 38 13  2 36 13 36 38 13  7 13 37 13 37  2 25], shape=(500,), dtype=int64)\n",
      "tf.Tensor(\n",
      "[36  2 42 13 13 27 13 37  7 42  2 43 34 13 34 42 13 43 13  2 37 13 18  2\n",
      " 13 37 13 20 43 24 42 36 25  2  7 13 42 39 42 13 43 34 38 42 13 13 41 13\n",
      " 13  2 13 13 13 42 13  7 34 42 28 38 13  1 36 13 13  7 34 19 13  1 13 20\n",
      " 38 36 36 42 19 19 19 27 42 13 12 38 13 38 13 13 19 41  2 13 37 42 38  2\n",
      " 13 19 24  2 19 20 38 20 45 13 42 13 38 37 42 41 13  7  2 13 18 34 37 13\n",
      " 41 42 19 19 42 13 19 13 13 13 19 42 13 13 36 43 20 13 13 38 38  0 37 37\n",
      " 13 20 24 42 40 13 13 13 13 42 13 19 36 37 36 13 13 42 42 13 37 37  7  7\n",
      " 19 37 41 38  2 28 27 13 42 37 43 13 42 13 13 24 20 36  1 13 37 13 38 41\n",
      " 36 36 12  1 13 13 13 40  7 13 13 27  1 34 13 20 13 18 25 13  1 13 41 42\n",
      "  7 42 38 13 13 13 42 42 36  7 37 41 13 13  2 13 13 28 36 13 34 37 42 13\n",
      " 36 43 39  2 34  7 19 20 40 42  2 40 36 13 13 42 39 43 43 37 13  7 13 41\n",
      " 13  7 36 42 24 13 36 13 43  1  2 13 28 20 13 17  7 24 42 36 37 13 36 40\n",
      " 13 34 42  1 28 27 13 13 13 13 13 20 42 42 13 36 41 34 37 41 34 13 13 43\n",
      " 13 25  2  2 13 36 42 13 37 13 13  2 38 42 13 43 36 42 34 13  2 24 13 42\n",
      " 42 13  2 42 42 34 13 41 42 19 25 25 13 42 42 17 13  1 36 42 13 38  7 41\n",
      " 13 36 13 20 41 20 36 13 13 13 42 28  2 42 18 38 13 37 42 13 43 42 18 34\n",
      " 13 41 42 11  7  2 22 37 13 42 41 13 13 42 13 19 37  7 13 39 42 40 13 43\n",
      "  2 42  2 36 13 13 13 13 13 13 42 36 36 41 19 13 43 36 37  2 34 34 13  2\n",
      " 41 13 43 36  2 36  1  2 42 45  2 42 13 42  7  2 13 13 13 13 13 19 36 41\n",
      " 28 14 34 25 36 42 13 40 13 43 43 13 42 19  7 28 13 13 13  1 13 43  2 34\n",
      " 38 20 19 13 13 13 43  7 36 37 27 38 13 32 13 37  7 37  7 13], shape=(500,), dtype=int64)\n"
     ]
    }
   ],
   "source": [
    "predicted_categories = tf.argmax(preds, axis=1)\n",
    "print(predicted_categories)\n",
    "true_categories = tf.argmax(y_test, axis=1)\n",
    "print(true_categories)"
   ]
  },
  {
   "cell_type": "code",
   "execution_count": 29,
   "metadata": {},
   "outputs": [
    {
     "name": "stdout",
     "output_type": "stream",
     "text": [
      "[[  0   0   0   0   0   0   0   0   0   0   0   0   0   0   0   0   0   0\n",
      "    0   0   0   0   0   0   0   0   0   0   0]\n",
      " [  0   6   2   0   0   0   0   0   0   0   0   2   0   0   0   0   0   0\n",
      "    0   0   1   1   0   0   0   0   0   1   0]\n",
      " [  0   1  16   5   0   0   0   1   0   0   0   4   0   0   0   0   0   1\n",
      "    0   0   2   0   0   0   0   2   4   3   0]\n",
      " [  0   0   1   8   0   0   0   3   0   0   0   2   0   0   0   0   2   0\n",
      "    1   2   0   0   2   0   0   0   0   1   0]\n",
      " [  0   0   0   0   0   0   0   1   0   0   0   0   0   0   0   0   0   0\n",
      "    0   0   0   0   0   0   0   0   0   0   0]\n",
      " [  0   0   0   0   0   0   0   0   0   0   0   0   0   0   0   0   0   0\n",
      "    0   0   0   0   0   0   0   0   0   0   0]\n",
      " [  0   0   0   0   0   0   0   0   0   0   0   0   0   0   0   0   0   0\n",
      "    0   0   0   0   0   0   0   0   0   0   0]\n",
      " [  1   0   3   2   0   0   0 121   0   0   0   0   0   0   0   2   1   2\n",
      "    0   6   2   5   0   0   0   3   2   2   0]\n",
      " [  0   0   0   0   0   0   0   0   0   0   0   0   0   0   0   0   0   0\n",
      "    0   0   0   0   0   0   0   0   0   0   0]\n",
      " [  0   0   0   0   0   0   0   0   0   0   0   0   0   0   0   0   0   0\n",
      "    0   0   0   0   0   0   0   0   0   0   0]\n",
      " [  0   0   0   0   0   0   0   0   0   0   1   1   0   0   0   0   0   0\n",
      "    0   0   0   0   0   0   0   0   0   0   0]\n",
      " [  0   0   0   0   0   0   0   0   0   0   0   7   1   0   0   0   0   0\n",
      "    0   0   0   0   0   0   0   0   0   0   0]\n",
      " [  0   1   0   1   0   0   0   3   0   1   0   2   7   0   2   0   0   1\n",
      "    0   1   0   1   0   1   3   0   3   1   1]\n",
      " [  0   0   0   0   0   0   0   0   0   0   0   0   0   0   0   0   0   0\n",
      "    0   0   0   0   0   0   0   0   0   0   0]\n",
      " [  0   0   0   0   0   0   0   1   0   0   0   0   3   0   3   0   0   1\n",
      "    0   1   2   2   0   1   0   0   1   0   0]\n",
      " [  0   0   0   0   0   0   0   5   0   0   0   1   1   0   0   3   1   0\n",
      "    0   0   0   0   0   0   0   0   1   0   0]\n",
      " [  0   0   0   0   0   0   0   1   0   0   0   0   0   0   0   0   1   0\n",
      "    0   0   0   0   0   0   0   0   0   0   0]\n",
      " [  0   1   0   0   0   0   0   0   0   0   0   0   0   0   0   0   0   2\n",
      "    0   0   2   0   0   0   0   0   0   0   0]\n",
      " [  0   0   0   0   0   0   0   0   0   0   0   0   0   0   0   0   0   0\n",
      "    0   0   0   0   0   0   0   0   0   0   0]\n",
      " [  0   0   0   0   0   0   0   0   0   0   0   0   0   0   0   0   0   0\n",
      "    0   0   0   0   0   0   0   0   0   0   0]\n",
      " [  0   0   0   0   0   0   2   0   0   0   0   0   0   0   0   0   1   0\n",
      "    0   2   9   0   0   0   1   0   0   0   0]\n",
      " [  0   0   0   0   0   0   0   0   0   0   0   0   1   0   0   0   0   0\n",
      "    0   1   3  13   0   0   0   0   0   0   0]\n",
      " [  0   0   2   5   0   0   0   4   0   0   3   0   0   0   0   1   0   0\n",
      "    0   2   0   0  11   0   0   0   4   1   1]\n",
      " [  0   0   0   0   0   0   0   0   0   0   0   0   0   0   2   0   0   0\n",
      "    0   0   3   0   0   2   0   0   0   0   0]\n",
      " [  0   0   0   0   0   0   0   0   0   0   0   0   0   0   0   0   0   0\n",
      "    0   0   0   0   0   0   0   0   0   0   0]\n",
      " [  0   0   3   0   0   0   0   3   0   0   0   1   0   0   0   0   0   0\n",
      "    0   2   4   1   0   0   0   9   8   4   0]\n",
      " [  0   2   4   1   0   1   0   7   1   1   1   0   1   1   0   0   0   1\n",
      "    0   2   6   4   5   0   3   5  38   7   0]\n",
      " [  0   0   0   0   0   0   0   0   0   0   0   0   0   0   0   0   0   0\n",
      "    0   0   0   0   0   0   0   0   0   0   0]\n",
      " [  0   0   0   0   0   0   0   0   0   0   0   0   0   0   0   0   0   0\n",
      "    0   0   0   0   0   0   0   0   0   0   0]]\n"
     ]
    }
   ],
   "source": [
    "from sklearn.metrics import confusion_matrix\n",
    "cf_matrix = confusion_matrix(predicted_categories, true_categories)\n",
    "print(cf_matrix)"
   ]
  },
  {
   "cell_type": "code",
   "execution_count": 30,
   "metadata": {},
   "outputs": [
    {
     "data": {
      "image/png": "[encoded data removed]",
      "text/plain": [
       "<Figure size 1008x864 with 2 Axes>"
      ]
     },
     "metadata": {
      "needs_background": "light"
     },
     "output_type": "display_data"
    }
   ],
   "source": [
    "import seaborn as sns\n",
    "import matplotlib.pyplot as plt\n",
    "\n",
    "plt.figure(figsize=(14, 12))\n",
    "\n",
    "ax = sns.heatmap(cf_matrix, annot=True, cmap='Blues')\n",
    "\n",
    "ax.set_title('Confusion Matrix\\n\\n');\n",
    "ax.set_xlabel('\\nPredicted')\n",
    "ax.set_ylabel('Actual');\n",
    "\n",
    "## Ticket labels - List must be in alphabetical order\n",
    "# ax.xaxis.set_ticklabels(['Anorak', 'Blazer', 'Blouse', 'Bomber', 'Button-Down', 'Caftan', 'Capris', 'Cardigan',\n",
    "#          'Chinos', 'Coat', 'Coverup', 'Culottes', 'Cutoffs', 'Dress', 'Flannel', 'Gauchos', 'Halter',\n",
    "#          'Henley', 'Hoodie', 'Jacket', 'Jeans', 'Jeggings', 'Jersey', 'Jodhpurs', 'Joggers', 'Jumpsuit', 'Kaftan',\n",
    "#          'Kimono', 'Leggings', ' Onesie', 'Parka', 'Peancoat', 'Poncho', 'Robe', 'Romper', 'Sarong',\n",
    "#          'Shorts', 'Skirt', 'Sweater', 'Sweatpants', 'Sweatshorts', 'Tank', 'Tee', 'Top', 'Trunks', 'Turtleneck'])\n",
    "# ax.yaxis.set_ticklabels(['Anorak', 'Blazer', 'Blouse', 'Bomber', 'Button-Down', 'Caftan', 'Capris', 'Cardigan',\n",
    "#          'Chinos', 'Coat', 'Coverup', 'Culottes', 'Cutoffs', 'Dress', 'Flannel', 'Gauchos', 'Halter',\n",
    "#          'Henley', 'Hoodie', 'Jacket', 'Jeans', 'Jeggings', 'Jersey', 'Jodhpurs', 'Joggers', 'Jumpsuit', 'Kaftan',\n",
    "#          'Kimono', 'Leggings', ' Onesie', 'Parka', 'Peancoat', 'Poncho', 'Robe', 'Romper', 'Sarong',\n",
    "#          'Shorts', 'Skirt', 'Sweater', 'Sweatpants', 'Sweatshorts', 'Tank', 'Tee', 'Top', 'Trunks', 'Turtleneck'])\n",
    "\n",
    "## Display the visualization of the Confusion Matrix.\n",
    "plt.show()"
   ]
  },
  {
   "cell_type": "code",
   "execution_count": null,
   "metadata": {},
   "outputs": [],
   "source": []
  }
 ],
 "metadata": {
  "interpreter": {
   "hash": "97d58b76e50de81912900e6e934ce9998d6d502e48292f7ef079e4e13adeaf7a"
  },
  "kernelspec": {
   "display_name": "Python 3.8.0 ('tfpython3.8')",
   "language": "python",
   "name": "python3"
  },
  "language_info": {
   "codemirror_mode": {
    "name": "ipython",
    "version": 3
   },
   "file_extension": ".py",
   "mimetype": "text/x-python",
   "name": "python",
   "nbconvert_exporter": "python",
   "pygments_lexer": "ipython3",
   "version": "3.8.0"
  },
  "orig_nbformat": 4
 },
 "nbformat": 4,
 "nbformat_minor": 2
}
